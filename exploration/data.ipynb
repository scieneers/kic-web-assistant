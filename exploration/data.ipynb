{
 "cells": [
  {
   "cell_type": "markdown",
   "metadata": {},
   "source": [
    "# Formats and Meta\n",
    "\n",
    "## Moochup Course Example:  \n",
    "```\n",
    "{\n",
    "    \"id\": \"0cf46a4b-9022-4cd5-9815-92312b3a84dc\",\n",
    "    \"type\": \"courses\",\n",
    "    \"attributes\": {\n",
    "        \"name\": \"KI und Ethik II\",\n",
    "        \"courseCode\": \"KI_Ethik_II\",\n",
    "        \"courseMode\": \"MOOC\",\n",
    "        \"abstract\": \"\\Die Entwicklung Künstlicher Intelligenz erfolgt eingebettet in den größeren Kontext einer \\u003cstrong\\u003edigitalen Transformation\\u003c/strong\\u003e. Wie wirkt sich [...]\",\n",
    "        \"languages\": [\n",
    "            \"de\"\n",
    "        ],\n",
    "        \"startDate\": \"2021-10-18T17:10:00Z\",\n",
    "        \"endDate\": null,\n",
    "        \"availableUntil\": null,\n",
    "        \"image\": {\n",
    "            \"url\": \"https://kicampus-public.s3.openhpicloud.de/courses/orBzqgERBJsLyvTtwv0Oo/visual_v1.png\",\n",
    "            \"licenses\": [\n",
    "                {\n",
    "                    \"id\": \"CC0-1.0\",\n",
    "                    \"url\": \"https://creativecommons.org/publicdomain/zero/1.0\",\n",
    "                    \"name\": \"Creative Commons Zero v1.0 Universal\",\n",
    "                    \"author\": null\n",
    "                }\n",
    "            ]\n",
    "        },\n",
    "        \"video\": null,\n",
    "        \"instructors\": [],\n",
    "        \"learningObjectives\": [],\n",
    "        \"duration\": null,\n",
    "        \"workload\": null,\n",
    "        \"partnerInstitute\": [],\n",
    "        \"moocProvider\": {\n",
    "            \"name\": \"KI-Campus\",\n",
    "            \"url\": \"https://learn.ki-campus.org/\",\n",
    "            \"logo\": \"https://imgproxy.services.openhpi.de/AcQdY-UlLcD3gY7NcMYcFeVk4-kbZWFH0r31JuyXdI4/fit/0/0/ce/false/aHR0cHM6Ly9sZWFy/bi5raS1jYW1wdXMu/b3JnL2Fzc2V0cy9s/b2dvLTQ3NTE5NjQz/NGEwNjlhNjY1M2Y4/ZDI0MmI2YTU5NDE2/MmEyYTU3MzkxZDky/ZjlkMTFlN2Y0NmMw/M2EyOWU3NWQucG5n.png\"\n",
    "        },\n",
    "        \"courseLicenses\": [\n",
    "            {\n",
    "                \"id\": \"CC-BY-SA-4.0\",\n",
    "                \"url\": \"https://creativecommons.org/licenses/by-sa/4.0\",\n",
    "                \"name\": \"Creative Commons Attribution Share Alike 4.0 International\",\n",
    "                \"author\": \"KI-Campus\"\n",
    "            }\n",
    "        ],\n",
    "        \"access\": [\n",
    "            \"free\"\n",
    "        ],\n",
    "        \"url\": \"https://ki-campus.org/courses/KI_Ethik_II\"\n",
    "    }\n",
    "},\n",
    "```\n",
    "\n",
    "\n",
    "## Zammad responses dump (FAQ_Dump.xlsx):\n",
    "Intent - Antwortvorlagen, manchmal abhängig von Eingabeparametern oder Status eines Kurses:\n",
    "\"wenn B. noch kein Teilnahmebestätigung/Leistungsnachweis (TNB/LN) freigeschaltet: KAM fragen, ob Leistungsnachweis für einen bestimmten Kurs angeboten werden soll/wird  \"\n",
    "\n",
    "Manchmal Prozess definiert unter \"Vorgehensweise\"\n",
    "\n",
    "\n",
    "### Datenbeispiel:\n",
    "\n",
    "Intent: Kosten\n",
    "\n",
    "Antowortbaustein: \n",
    "\n",
    "Liebe/r..,\n",
    "vielen Dank für Ihre Nachricht - wir freuen uns über Ihr Interesse am KI-Campus!\n",
    "\n",
    "Kein Sorge, alle Lernangebote auf dem KI-Campus können kostenfrei besucht werden.\n",
    "Sie haben die Wahl zwischen KI-Campus-Originalen, Partner-Lernangeboten oder externem Material, das von uns sorgsam kuratiert wurde.\n",
    "Ob es sich bei einem Lernangebot um ein KI-Campus-Original oder ein Partner- oder externes Angebot handelt, erkennen sie an dem auberginefarbenem Button links oben auf dem Kursbild. Im Anhang können Sie passende Beispiele finden.\n",
    "\n",
    "Wenn sie zusätzlich zum Besuch eines Kurses auch eine Bescheinigung oder ein Zertifikat erlangen wollen, können bei externen Angeboten Kosten entstehen.\n",
    "Für KI-Campus-Originale gilt das nicht!  Bei uns  sind auch die Teilnahmebestätigungen und Leistungsnachweise kostenlos.\n",
    "\n",
    "Ich hoffe, ich konnte Ihnen ein wenig weiterhelfen und Sie ermutigen, einfach in unseren Kursen zu stöbern!\n"
   ]
  },
  {
   "cell_type": "markdown",
   "metadata": {},
   "source": [
    "## Umsetzung als Assistent:\n",
    "\n",
    "Textbausteine aus Zammad (1) umschreiben oder (2) prompting dass das LLM diesen Textbaustein zu Beantwortung nutzen soll.\n",
    "\n",
    "Bei klaren Prozessen evtl. Rasa erweitern und die nötigen API-Calls absetzen - eher eine Ausbaustufe. Ansonsten als Agent?\n",
    "\n",
    "Wie kann ein LLM Auskunft geben über die Metainformationen? \"Z.b. wie viele Kurse habt ihr?\""
   ]
  },
  {
   "cell_type": "code",
   "execution_count": 2,
   "metadata": {},
   "outputs": [
    {
     "ename": "HTTPError",
     "evalue": "406 Client Error: Not Acceptable for url: https://learn.ki-campus.org/bridges/moochub/courses",
     "output_type": "error",
     "traceback": [
      "\u001b[1;31m---------------------------------------------------------------------------\u001b[0m",
      "\u001b[1;31mHTTPError\u001b[0m                                 Traceback (most recent call last)",
      "Cell \u001b[1;32mIn[2], line 12\u001b[0m\n\u001b[0;32m      9\u001b[0m     response\u001b[38;5;241m.\u001b[39mraise_for_status()\n\u001b[0;32m     10\u001b[0m     \u001b[38;5;28;01mreturn\u001b[39;00m response\u001b[38;5;241m.\u001b[39mjson() \n\u001b[1;32m---> 12\u001b[0m course_info_page \u001b[38;5;241m=\u001b[39m \u001b[43mfetch_data\u001b[49m\u001b[43m(\u001b[49m\u001b[43mAPI_URL\u001b[49m\u001b[43m)\u001b[49m\n\u001b[0;32m     13\u001b[0m course_info\u001b[38;5;241m.\u001b[39mextend(course_info_page[\u001b[38;5;124m'\u001b[39m\u001b[38;5;124mdata\u001b[39m\u001b[38;5;124m'\u001b[39m])\n\u001b[0;32m     14\u001b[0m \u001b[38;5;28;01mwhile\u001b[39;00m \u001b[38;5;124m'\u001b[39m\u001b[38;5;124mnext\u001b[39m\u001b[38;5;124m'\u001b[39m \u001b[38;5;129;01min\u001b[39;00m course_info_page[\u001b[38;5;124m'\u001b[39m\u001b[38;5;124mlinks\u001b[39m\u001b[38;5;124m'\u001b[39m]:\n",
      "Cell \u001b[1;32mIn[2], line 9\u001b[0m, in \u001b[0;36mfetch_data\u001b[1;34m(url)\u001b[0m\n\u001b[0;32m      7\u001b[0m \u001b[38;5;28;01mdef\u001b[39;00m \u001b[38;5;21mfetch_data\u001b[39m(url) \u001b[38;5;241m-\u001b[39m\u001b[38;5;241m>\u001b[39m \u001b[38;5;28mdict\u001b[39m:\n\u001b[0;32m      8\u001b[0m     response \u001b[38;5;241m=\u001b[39m requests\u001b[38;5;241m.\u001b[39mget(url, headers\u001b[38;5;241m=\u001b[39m{\u001b[38;5;124m'\u001b[39m\u001b[38;5;124mAccept\u001b[39m\u001b[38;5;124m'\u001b[39m: \u001b[38;5;124m'\u001b[39m\u001b[38;5;124mapplication/vnd.api+json; moochub-version=2.1, application/problem+json\u001b[39m\u001b[38;5;124m'\u001b[39m})\n\u001b[1;32m----> 9\u001b[0m     \u001b[43mresponse\u001b[49m\u001b[38;5;241;43m.\u001b[39;49m\u001b[43mraise_for_status\u001b[49m\u001b[43m(\u001b[49m\u001b[43m)\u001b[49m\n\u001b[0;32m     10\u001b[0m     \u001b[38;5;28;01mreturn\u001b[39;00m response\u001b[38;5;241m.\u001b[39mjson()\n",
      "File \u001b[1;32mc:\\Users\\FatemehSalehi\\Documents\\kic-web-assistant\\.venv\\Lib\\site-packages\\requests\\models.py:1024\u001b[0m, in \u001b[0;36mResponse.raise_for_status\u001b[1;34m(self)\u001b[0m\n\u001b[0;32m   1019\u001b[0m     http_error_msg \u001b[38;5;241m=\u001b[39m (\n\u001b[0;32m   1020\u001b[0m         \u001b[38;5;124mf\u001b[39m\u001b[38;5;124m\"\u001b[39m\u001b[38;5;132;01m{\u001b[39;00m\u001b[38;5;28mself\u001b[39m\u001b[38;5;241m.\u001b[39mstatus_code\u001b[38;5;132;01m}\u001b[39;00m\u001b[38;5;124m Server Error: \u001b[39m\u001b[38;5;132;01m{\u001b[39;00mreason\u001b[38;5;132;01m}\u001b[39;00m\u001b[38;5;124m for url: \u001b[39m\u001b[38;5;132;01m{\u001b[39;00m\u001b[38;5;28mself\u001b[39m\u001b[38;5;241m.\u001b[39murl\u001b[38;5;132;01m}\u001b[39;00m\u001b[38;5;124m\"\u001b[39m\n\u001b[0;32m   1021\u001b[0m     )\n\u001b[0;32m   1023\u001b[0m \u001b[38;5;28;01mif\u001b[39;00m http_error_msg:\n\u001b[1;32m-> 1024\u001b[0m     \u001b[38;5;28;01mraise\u001b[39;00m HTTPError(http_error_msg, response\u001b[38;5;241m=\u001b[39m\u001b[38;5;28mself\u001b[39m)\n",
      "\u001b[1;31mHTTPError\u001b[0m: 406 Client Error: Not Acceptable for url: https://learn.ki-campus.org/bridges/moochub/courses"
     ]
    }
   ],
   "source": [
    "import requests\n",
    "\n",
    "API_URL = 'https://learn.ki-campus.org/bridges/moochub/courses'\n",
    "\n",
    "course_info = []\n",
    "\n",
    "def fetch_data(url) -> dict:\n",
    "    response = requests.get(url, headers={'Accept': 'application/vnd.api+json; moochub-version=2.1, application/problem+json'})\n",
    "    response.raise_for_status()\n",
    "    return response.json() \n",
    "\n",
    "course_info_page = fetch_data(API_URL)\n",
    "course_info.extend(course_info_page['data'])\n",
    "while 'next' in course_info_page['links']:\n",
    "    course_info_page = fetch_data(course_info_page['links']['next'])\n",
    "    course_info.extend(course_info_page['data'])\n"
   ]
  },
  {
   "cell_type": "code",
   "execution_count": 3,
   "metadata": {},
   "outputs": [
    {
     "name": "stdout",
     "output_type": "stream",
     "text": [
      "Number of courses 0\n",
      "Unique IDs retrieved: True\n",
      "First course:\n"
     ]
    },
    {
     "ename": "IndexError",
     "evalue": "list index out of range",
     "output_type": "error",
     "traceback": [
      "\u001b[1;31m---------------------------------------------------------------------------\u001b[0m",
      "\u001b[1;31mIndexError\u001b[0m                                Traceback (most recent call last)",
      "Cell \u001b[1;32mIn[3], line 7\u001b[0m\n\u001b[0;32m      4\u001b[0m \u001b[38;5;28mprint\u001b[39m(\u001b[38;5;124mf\u001b[39m\u001b[38;5;124m\"\u001b[39m\u001b[38;5;124mUnique IDs retrieved: \u001b[39m\u001b[38;5;132;01m{\u001b[39;00m\u001b[38;5;28mlen\u001b[39m(course_ids)\u001b[38;5;250m \u001b[39m\u001b[38;5;241m==\u001b[39m\u001b[38;5;250m \u001b[39m\u001b[38;5;28mlen\u001b[39m(\u001b[38;5;28mset\u001b[39m(course_ids))\u001b[38;5;132;01m}\u001b[39;00m\u001b[38;5;124m\"\u001b[39m)\n\u001b[0;32m      6\u001b[0m \u001b[38;5;28mprint\u001b[39m(\u001b[38;5;124m\"\u001b[39m\u001b[38;5;124mFirst course:\u001b[39m\u001b[38;5;124m\"\u001b[39m)\n\u001b[1;32m----> 7\u001b[0m \u001b[38;5;28mprint\u001b[39m(\u001b[43mcourse_info\u001b[49m\u001b[43m[\u001b[49m\u001b[38;5;241;43m0\u001b[39;49m\u001b[43m]\u001b[49m)\n",
      "\u001b[1;31mIndexError\u001b[0m: list index out of range"
     ]
    }
   ],
   "source": [
    "print(f\"Number of courses {len(course_info)}\")\n",
    "# check if cours id are unique\n",
    "course_ids = [course['id'] for course in course_info]\n",
    "print(f\"Unique IDs retrieved: {len(course_ids) == len(set(course_ids))}\")\n",
    "\n",
    "print(\"First course:\")\n",
    "print(course_info[0])"
   ]
  },
  {
   "cell_type": "code",
   "execution_count": 4,
   "metadata": {},
   "outputs": [
    {
     "name": "stdout",
     "output_type": "stream",
     "text": [
      "descriptions are html formatted:\n"
     ]
    },
    {
     "ename": "IndexError",
     "evalue": "list index out of range",
     "output_type": "error",
     "traceback": [
      "\u001b[1;31m---------------------------------------------------------------------------\u001b[0m",
      "\u001b[1;31mIndexError\u001b[0m                                Traceback (most recent call last)",
      "Cell \u001b[1;32mIn[4], line 3\u001b[0m\n\u001b[0;32m      1\u001b[0m descriptions \u001b[38;5;241m=\u001b[39m [course[\u001b[38;5;124m\"\u001b[39m\u001b[38;5;124mattributes\u001b[39m\u001b[38;5;124m\"\u001b[39m][\u001b[38;5;124m\"\u001b[39m\u001b[38;5;124mdescription\u001b[39m\u001b[38;5;124m\"\u001b[39m] \u001b[38;5;28;01mfor\u001b[39;00m course \u001b[38;5;129;01min\u001b[39;00m course_info]\n\u001b[0;32m      2\u001b[0m \u001b[38;5;28mprint\u001b[39m(\u001b[38;5;124m\"\u001b[39m\u001b[38;5;124mdescriptions are html formatted:\u001b[39m\u001b[38;5;124m\"\u001b[39m)\n\u001b[1;32m----> 3\u001b[0m \u001b[38;5;28mprint\u001b[39m(\u001b[43mdescriptions\u001b[49m\u001b[43m[\u001b[49m\u001b[38;5;241;43m0\u001b[39;49m\u001b[43m]\u001b[49m)\n\u001b[0;32m      4\u001b[0m \u001b[38;5;28mprint\u001b[39m(\u001b[38;5;124mf\u001b[39m\u001b[38;5;124m\"\u001b[39m\u001b[38;5;124mMin description length: \u001b[39m\u001b[38;5;132;01m{\u001b[39;00m\u001b[38;5;28mmin\u001b[39m(\u001b[38;5;28mmap\u001b[39m(\u001b[38;5;28mlen\u001b[39m,\u001b[38;5;250m \u001b[39mdescriptions))\u001b[38;5;132;01m}\u001b[39;00m\u001b[38;5;124m\"\u001b[39m)\n\u001b[0;32m      5\u001b[0m \u001b[38;5;28mprint\u001b[39m(\u001b[38;5;124mf\u001b[39m\u001b[38;5;124m\"\u001b[39m\u001b[38;5;124mMax description length: \u001b[39m\u001b[38;5;132;01m{\u001b[39;00m\u001b[38;5;28mmax\u001b[39m(\u001b[38;5;28mmap\u001b[39m(\u001b[38;5;28mlen\u001b[39m,\u001b[38;5;250m \u001b[39mdescriptions))\u001b[38;5;132;01m}\u001b[39;00m\u001b[38;5;124m\"\u001b[39m)\n",
      "\u001b[1;31mIndexError\u001b[0m: list index out of range"
     ]
    }
   ],
   "source": [
    "descriptions = [course[\"attributes\"][\"description\"] for course in course_info]\n",
    "print(\"descriptions are html formatted:\")\n",
    "print(descriptions[0])\n",
    "print(f\"Min description length: {min(map(len, descriptions))}\")\n",
    "print(f\"Max description length: {max(map(len, descriptions))}\")\n",
    "print(f\"Average description length: {sum(map(len, descriptions)) / len(descriptions)}\")\n",
    "\n",
    "abstracts = [course[\"attributes\"][\"abstract\"] for course in course_info]\n",
    "abstracts_equal_descriptions = [abstract == description for abstract, description in zip(abstracts, descriptions)]\n",
    "print(f\"Number of abstracts equal to descriptions: {sum(abstracts_equal_descriptions)} of {len(abstracts)}\")\n",
    "\n",
    "names = [course[\"attributes\"][\"name\"] for course in course_info]\n",
    "print(f\"Min name length: {min(map(len, names))}\")\n",
    "print(f\"Max name length: {max(map(len, names))}\")\n",
    "print(f\"Average name length: {sum(map(len, names)) / len(names)}\")"
   ]
  },
  {
   "cell_type": "code",
   "execution_count": 5,
   "metadata": {},
   "outputs": [
    {
     "ename": "IndexError",
     "evalue": "list index out of range",
     "output_type": "error",
     "traceback": [
      "\u001b[1;31m---------------------------------------------------------------------------\u001b[0m",
      "\u001b[1;31mIndexError\u001b[0m                                Traceback (most recent call last)",
      "Cell \u001b[1;32mIn[5], line 3\u001b[0m\n\u001b[0;32m      1\u001b[0m \u001b[38;5;66;03m# order\u001b[39;00m\n\u001b[0;32m      2\u001b[0m descriptions \u001b[38;5;241m=\u001b[39m \u001b[38;5;28msorted\u001b[39m(descriptions, key\u001b[38;5;241m=\u001b[39m\u001b[38;5;28mlen\u001b[39m)\n\u001b[1;32m----> 3\u001b[0m \u001b[43mdescriptions\u001b[49m\u001b[43m[\u001b[49m\u001b[38;5;241;43m-\u001b[39;49m\u001b[38;5;241;43m1\u001b[39;49m\u001b[43m]\u001b[49m\n",
      "\u001b[1;31mIndexError\u001b[0m: list index out of range"
     ]
    }
   ],
   "source": [
    "# order\n",
    "descriptions = sorted(descriptions, key=len)\n",
    "descriptions[-1]"
   ]
  },
  {
   "cell_type": "code",
   "execution_count": 6,
   "metadata": {},
   "outputs": [
    {
     "ename": "IndexError",
     "evalue": "list index out of range",
     "output_type": "error",
     "traceback": [
      "\u001b[1;31m---------------------------------------------------------------------------\u001b[0m",
      "\u001b[1;31mIndexError\u001b[0m                                Traceback (most recent call last)",
      "Cell \u001b[1;32mIn[6], line 1\u001b[0m\n\u001b[1;32m----> 1\u001b[0m \u001b[38;5;28mprint\u001b[39m(\u001b[43mdescriptions\u001b[49m\u001b[43m[\u001b[49m\u001b[38;5;241;43m-\u001b[39;49m\u001b[38;5;241;43m4\u001b[39;49m\u001b[43m]\u001b[49m)\n",
      "\u001b[1;31mIndexError\u001b[0m: list index out of range"
     ]
    }
   ],
   "source": [
    "print(descriptions[-4])"
   ]
  },
  {
   "cell_type": "code",
   "execution_count": 7,
   "metadata": {},
   "outputs": [
    {
     "name": "stdout",
     "output_type": "stream",
     "text": [
      "set()\n"
     ]
    }
   ],
   "source": [
    "course_languages = [\"-\".join(course[\"attributes\"][\"languages\"]) for course in course_info]\n",
    "print(set(course_languages))"
   ]
  },
  {
   "cell_type": "markdown",
   "metadata": {},
   "source": [
    "# Course content from Moodle\n",
    "\n",
    "## Creating a client:\n",
    "Configure a webservice account with the necessary permissions: https://ki-campus-test.fernuni-hagen.de/admin/settings.php?section=webservicesoverview"
   ]
  },
  {
   "cell_type": "code",
   "execution_count": 13,
   "metadata": {},
   "outputs": [
    {
     "ename": "NameError",
     "evalue": "name '__file__' is not defined",
     "output_type": "error",
     "traceback": [
      "\u001b[1;31m---------------------------------------------------------------------------\u001b[0m",
      "\u001b[1;31mNameError\u001b[0m                                 Traceback (most recent call last)",
      "Cell \u001b[1;32mIn[13], line 4\u001b[0m\n\u001b[0;32m      2\u001b[0m \u001b[38;5;28;01mimport\u001b[39;00m \u001b[38;5;21;01mos\u001b[39;00m\n\u001b[0;32m      3\u001b[0m \u001b[38;5;28;01mimport\u001b[39;00m \u001b[38;5;21;01msys\u001b[39;00m\n\u001b[1;32m----> 4\u001b[0m current \u001b[38;5;241m=\u001b[39m os\u001b[38;5;241m.\u001b[39mpath\u001b[38;5;241m.\u001b[39mdirname(os\u001b[38;5;241m.\u001b[39mpath\u001b[38;5;241m.\u001b[39mrealpath(\u001b[38;5;18;43m__file__\u001b[39;49m))\n\u001b[0;32m      5\u001b[0m parent \u001b[38;5;241m=\u001b[39m os\u001b[38;5;241m.\u001b[39mpath\u001b[38;5;241m.\u001b[39mdirname(current)\n\u001b[0;32m      6\u001b[0m sys\u001b[38;5;241m.\u001b[39mpath\u001b[38;5;241m.\u001b[39mappend(parent)\n",
      "\u001b[1;31mNameError\u001b[0m: name '__file__' is not defined"
     ]
    }
   ],
   "source": [
    "import requests\n",
    "import os\n",
    "import sys\n",
    "current = os.path.dirname(os.path.realpath(__file__))\n",
    "parent = os.path.dirname(current)\n",
    "sys.path.append(parent)\n",
    "\n",
    "from loaders.helpers import get_secrets\n",
    "secrets = get_secrets()\n",
    "WEBSITE_URL = secrets['DATA_SOURCES']['STAGING']['MOODLE_URL']\n",
    "TOKEN = secrets['DATA_SOURCES']['STAGING']['MOODLE_TOKEN'] \n",
    "BASE_URL = f\"https://{WEBSITE_URL}/webservice/rest/server.php\"\n",
    "\n",
    "# create a token through API:\n",
    "# USERNAME = \"\"\n",
    "# PASSWORD = \"\"\n",
    "# SERVICESHORTNAME = \"\"\n",
    "# print(f\"https://{WEBSITE_URL}/login/token.php?username={USERNAME}&password={PASSWORD}&service={SERVICESHORTNAME}\")\n",
    "# !curl \"https://{WEBSITE_URL}/login/token.php?username={USERNAME}&password={PASSWORD}&service={SERVICESHORTNAME}\"\n"
   ]
  },
  {
   "cell_type": "code",
   "execution_count": 14,
   "metadata": {},
   "outputs": [
    {
     "ename": "NameError",
     "evalue": "name 'BASE_URL' is not defined",
     "output_type": "error",
     "traceback": [
      "\u001b[1;31m---------------------------------------------------------------------------\u001b[0m",
      "\u001b[1;31mNameError\u001b[0m                                 Traceback (most recent call last)",
      "Cell \u001b[1;32mIn[14], line 3\u001b[0m\n\u001b[0;32m      1\u001b[0m \u001b[38;5;66;03m# example call\u001b[39;00m\n\u001b[0;32m      2\u001b[0m function \u001b[38;5;241m=\u001b[39m \u001b[38;5;124m\"\u001b[39m\u001b[38;5;124mcore_course_get_categories\u001b[39m\u001b[38;5;124m\"\u001b[39m\n\u001b[1;32m----> 3\u001b[0m \u001b[38;5;28mprint\u001b[39m(\u001b[43mBASE_URL\u001b[49m)\n\u001b[0;32m      4\u001b[0m get_ipython()\u001b[38;5;241m.\u001b[39msystem(\u001b[38;5;124m'\u001b[39m\u001b[38;5;124mcurl \u001b[39m\u001b[38;5;124m\"\u001b[39m\u001b[38;5;132;01m{WEBSITE_URL}\u001b[39;00m\u001b[38;5;124m/webservice/rest/server.php?wstoken=\u001b[39m\u001b[38;5;132;01m{TOKEN}\u001b[39;00m\u001b[38;5;124m&wsfunction=\u001b[39m\u001b[38;5;132;01m{function}\u001b[39;00m\u001b[38;5;124m&moodlewsrestformat=json\u001b[39m\u001b[38;5;124m\"\u001b[39m\u001b[38;5;124m'\u001b[39m)\n",
      "\u001b[1;31mNameError\u001b[0m: name 'BASE_URL' is not defined"
     ]
    }
   ],
   "source": [
    "# example call\n",
    "function = \"core_course_get_categories\"\n",
    "print(BASE_URL)\n",
    "!curl \"{WEBSITE_URL}/webservice/rest/server.php?wstoken={TOKEN}&wsfunction={function}&moodlewsrestformat=json\""
   ]
  },
  {
   "cell_type": "code",
   "execution_count": 15,
   "metadata": {},
   "outputs": [],
   "source": [
    "def get_data(fuction: str, **kwargs) -> dict:\n",
    "    params = {\n",
    "            \"wstoken\": TOKEN,\n",
    "            \"wsfunction\": fuction,\n",
    "            \"moodlewsrestformat\": \"json\",\n",
    "        } \n",
    "    params.update(kwargs)\n",
    "\n",
    "    response = requests.get(url=BASE_URL, params=params)\n",
    "    return response.json()"
   ]
  },
  {
   "cell_type": "code",
   "execution_count": 16,
   "metadata": {},
   "outputs": [
    {
     "ename": "NameError",
     "evalue": "name 'TOKEN' is not defined",
     "output_type": "error",
     "traceback": [
      "\u001b[1;31m---------------------------------------------------------------------------\u001b[0m",
      "\u001b[1;31mNameError\u001b[0m                                 Traceback (most recent call last)",
      "Cell \u001b[1;32mIn[16], line 2\u001b[0m\n\u001b[0;32m      1\u001b[0m \u001b[38;5;66;03m# overview of all courses\u001b[39;00m\n\u001b[1;32m----> 2\u001b[0m \u001b[43mget_data\u001b[49m\u001b[43m(\u001b[49m\u001b[38;5;124;43m\"\u001b[39;49m\u001b[38;5;124;43mcore_course_get_courses\u001b[39;49m\u001b[38;5;124;43m\"\u001b[39;49m\u001b[43m)\u001b[49m\n",
      "Cell \u001b[1;32mIn[15], line 3\u001b[0m, in \u001b[0;36mget_data\u001b[1;34m(fuction, **kwargs)\u001b[0m\n\u001b[0;32m      1\u001b[0m \u001b[38;5;28;01mdef\u001b[39;00m \u001b[38;5;21mget_data\u001b[39m(fuction: \u001b[38;5;28mstr\u001b[39m, \u001b[38;5;241m*\u001b[39m\u001b[38;5;241m*\u001b[39mkwargs) \u001b[38;5;241m-\u001b[39m\u001b[38;5;241m>\u001b[39m \u001b[38;5;28mdict\u001b[39m:\n\u001b[0;32m      2\u001b[0m     params \u001b[38;5;241m=\u001b[39m {\n\u001b[1;32m----> 3\u001b[0m             \u001b[38;5;124m\"\u001b[39m\u001b[38;5;124mwstoken\u001b[39m\u001b[38;5;124m\"\u001b[39m: \u001b[43mTOKEN\u001b[49m,\n\u001b[0;32m      4\u001b[0m             \u001b[38;5;124m\"\u001b[39m\u001b[38;5;124mwsfunction\u001b[39m\u001b[38;5;124m\"\u001b[39m: fuction,\n\u001b[0;32m      5\u001b[0m             \u001b[38;5;124m\"\u001b[39m\u001b[38;5;124mmoodlewsrestformat\u001b[39m\u001b[38;5;124m\"\u001b[39m: \u001b[38;5;124m\"\u001b[39m\u001b[38;5;124mjson\u001b[39m\u001b[38;5;124m\"\u001b[39m,\n\u001b[0;32m      6\u001b[0m         } \n\u001b[0;32m      7\u001b[0m     params\u001b[38;5;241m.\u001b[39mupdate(kwargs)\n\u001b[0;32m      9\u001b[0m     response \u001b[38;5;241m=\u001b[39m requests\u001b[38;5;241m.\u001b[39mget(url\u001b[38;5;241m=\u001b[39mBASE_URL, params\u001b[38;5;241m=\u001b[39mparams)\n",
      "\u001b[1;31mNameError\u001b[0m: name 'TOKEN' is not defined"
     ]
    }
   ],
   "source": [
    "# overview of all courses\n",
    "get_data(\"core_course_get_courses\")"
   ]
  },
  {
   "cell_type": "code",
   "execution_count": 17,
   "metadata": {},
   "outputs": [
    {
     "ename": "NameError",
     "evalue": "name 'TOKEN' is not defined",
     "output_type": "error",
     "traceback": [
      "\u001b[1;31m---------------------------------------------------------------------------\u001b[0m",
      "\u001b[1;31mNameError\u001b[0m                                 Traceback (most recent call last)",
      "Cell \u001b[1;32mIn[17], line 6\u001b[0m\n\u001b[0;32m      1\u001b[0m \u001b[38;5;66;03m# Overview of all course contents (\"Modules\"/\"Abschnitte\"/\"Topics\" and their sub \"modules\" containing multiple different formats)\u001b[39;00m\n\u001b[0;32m      2\u001b[0m \u001b[38;5;66;03m# + course description (differently from other API?)\u001b[39;00m\n\u001b[0;32m      3\u001b[0m \u001b[38;5;66;03m# + Topic summary\u001b[39;00m\n\u001b[0;32m      4\u001b[0m \u001b[38;5;66;03m# + content for some for files (images, hp5, hmtl) there is a link provided, but for questionaire?\u001b[39;00m\n\u001b[1;32m----> 6\u001b[0m \u001b[43mget_data\u001b[49m\u001b[43m(\u001b[49m\u001b[38;5;124;43m\"\u001b[39;49m\u001b[38;5;124;43mcore_course_get_contents\u001b[39;49m\u001b[38;5;124;43m\"\u001b[39;49m\u001b[43m,\u001b[49m\u001b[43m \u001b[49m\u001b[43mcourseid\u001b[49m\u001b[38;5;241;43m=\u001b[39;49m\u001b[38;5;241;43m16\u001b[39;49m\u001b[43m)\u001b[49m \u001b[38;5;66;03m# Dr. med. KI - Basler Modul https://ki-campus-test.fernuni-hagen.de/course/view.php?id=16\u001b[39;00m\n",
      "Cell \u001b[1;32mIn[15], line 3\u001b[0m, in \u001b[0;36mget_data\u001b[1;34m(fuction, **kwargs)\u001b[0m\n\u001b[0;32m      1\u001b[0m \u001b[38;5;28;01mdef\u001b[39;00m \u001b[38;5;21mget_data\u001b[39m(fuction: \u001b[38;5;28mstr\u001b[39m, \u001b[38;5;241m*\u001b[39m\u001b[38;5;241m*\u001b[39mkwargs) \u001b[38;5;241m-\u001b[39m\u001b[38;5;241m>\u001b[39m \u001b[38;5;28mdict\u001b[39m:\n\u001b[0;32m      2\u001b[0m     params \u001b[38;5;241m=\u001b[39m {\n\u001b[1;32m----> 3\u001b[0m             \u001b[38;5;124m\"\u001b[39m\u001b[38;5;124mwstoken\u001b[39m\u001b[38;5;124m\"\u001b[39m: \u001b[43mTOKEN\u001b[49m,\n\u001b[0;32m      4\u001b[0m             \u001b[38;5;124m\"\u001b[39m\u001b[38;5;124mwsfunction\u001b[39m\u001b[38;5;124m\"\u001b[39m: fuction,\n\u001b[0;32m      5\u001b[0m             \u001b[38;5;124m\"\u001b[39m\u001b[38;5;124mmoodlewsrestformat\u001b[39m\u001b[38;5;124m\"\u001b[39m: \u001b[38;5;124m\"\u001b[39m\u001b[38;5;124mjson\u001b[39m\u001b[38;5;124m\"\u001b[39m,\n\u001b[0;32m      6\u001b[0m         } \n\u001b[0;32m      7\u001b[0m     params\u001b[38;5;241m.\u001b[39mupdate(kwargs)\n\u001b[0;32m      9\u001b[0m     response \u001b[38;5;241m=\u001b[39m requests\u001b[38;5;241m.\u001b[39mget(url\u001b[38;5;241m=\u001b[39mBASE_URL, params\u001b[38;5;241m=\u001b[39mparams)\n",
      "\u001b[1;31mNameError\u001b[0m: name 'TOKEN' is not defined"
     ]
    }
   ],
   "source": [
    "# Overview of all course contents (\"Modules\"/\"Abschnitte\"/\"Topics\" and their sub \"modules\" containing multiple different formats)\n",
    "# + course description (differently from other API?)\n",
    "# + Topic summary\n",
    "# + content for some for files (images, hp5, hmtl) there is a link provided, but for questionaire?\n",
    "\n",
    "get_data(\"core_course_get_contents\", courseid=16) # Dr. med. KI - Basler Modul https://ki-campus-test.fernuni-hagen.de/course/view.php?id=16\n"
   ]
  },
  {
   "cell_type": "code",
   "execution_count": 18,
   "metadata": {},
   "outputs": [
    {
     "ename": "NameError",
     "evalue": "name 'TOKEN' is not defined",
     "output_type": "error",
     "traceback": [
      "\u001b[1;31m---------------------------------------------------------------------------\u001b[0m",
      "\u001b[1;31mNameError\u001b[0m                                 Traceback (most recent call last)",
      "Cell \u001b[1;32mIn[18], line 4\u001b[0m\n\u001b[0;32m      1\u001b[0m \u001b[38;5;66;03m# Html content does not match what I see at https://ki-campus-test.fernuni-hagen.de/course/view.php?id=16 for \"Was ist Intelligenz\" (where it is referenced) \u001b[39;00m\n\u001b[0;32m      2\u001b[0m \u001b[38;5;66;03m# - but \"Data Bias\" in Module 4, where the link is also referenced \u001b[39;00m\n\u001b[0;32m      3\u001b[0m \u001b[38;5;66;03m# How to work with h5p content?\u001b[39;00m\n\u001b[1;32m----> 4\u001b[0m params \u001b[38;5;241m=\u001b[39m {\u001b[38;5;124m\"\u001b[39m\u001b[38;5;124mtoken\u001b[39m\u001b[38;5;124m\"\u001b[39m: \u001b[43mTOKEN\u001b[49m,} \n\u001b[0;32m      5\u001b[0m response \u001b[38;5;241m=\u001b[39m requests\u001b[38;5;241m.\u001b[39mget(url\u001b[38;5;241m=\u001b[39m\u001b[38;5;124m\"\u001b[39m\u001b[38;5;124mhttps://ki-campus-test.fernuni-hagen.de/webservice/pluginfile.php/403/mod_page/content/index.html?forcedownload=1\u001b[39m\u001b[38;5;124m\"\u001b[39m, params\u001b[38;5;241m=\u001b[39mparams)\n\u001b[0;32m      6\u001b[0m \u001b[38;5;28mprint\u001b[39m(response\u001b[38;5;241m.\u001b[39mcontent)\n",
      "\u001b[1;31mNameError\u001b[0m: name 'TOKEN' is not defined"
     ]
    }
   ],
   "source": [
    "# Html content does not match what I see at https://ki-campus-test.fernuni-hagen.de/course/view.php?id=16 for \"Was ist Intelligenz\" (where it is referenced) \n",
    "# - but \"Data Bias\" in Module 4, where the link is also referenced \n",
    "# How to work with h5p content?\n",
    "params = {\"token\": TOKEN,} \n",
    "response = requests.get(url=\"https://ki-campus-test.fernuni-hagen.de/webservice/pluginfile.php/403/mod_page/content/index.html?forcedownload=1\", params=params)\n",
    "print(response.content)"
   ]
  },
  {
   "cell_type": "code",
   "execution_count": 19,
   "metadata": {},
   "outputs": [
    {
     "ename": "NameError",
     "evalue": "name 'TOKEN' is not defined",
     "output_type": "error",
     "traceback": [
      "\u001b[1;31m---------------------------------------------------------------------------\u001b[0m",
      "\u001b[1;31mNameError\u001b[0m                                 Traceback (most recent call last)",
      "Cell \u001b[1;32mIn[19], line 2\u001b[0m\n\u001b[0;32m      1\u001b[0m \u001b[38;5;66;03m# different type of content items, does not seem relevant for now\u001b[39;00m\n\u001b[1;32m----> 2\u001b[0m \u001b[43mget_data\u001b[49m\u001b[43m(\u001b[49m\u001b[38;5;124;43m\"\u001b[39;49m\u001b[38;5;124;43mcore_course_get_course_content_items\u001b[39;49m\u001b[38;5;124;43m\"\u001b[39;49m\u001b[43m,\u001b[49m\u001b[43m \u001b[49m\u001b[43mcourseid\u001b[49m\u001b[38;5;241;43m=\u001b[39;49m\u001b[38;5;241;43m16\u001b[39;49m\u001b[43m)\u001b[49m \u001b[38;5;66;03m# Dr. med. KI - Basler Modul https://ki-campus-test.fernuni-hagen.de/course/view.php?id=16\u001b[39;00m\n",
      "Cell \u001b[1;32mIn[15], line 3\u001b[0m, in \u001b[0;36mget_data\u001b[1;34m(fuction, **kwargs)\u001b[0m\n\u001b[0;32m      1\u001b[0m \u001b[38;5;28;01mdef\u001b[39;00m \u001b[38;5;21mget_data\u001b[39m(fuction: \u001b[38;5;28mstr\u001b[39m, \u001b[38;5;241m*\u001b[39m\u001b[38;5;241m*\u001b[39mkwargs) \u001b[38;5;241m-\u001b[39m\u001b[38;5;241m>\u001b[39m \u001b[38;5;28mdict\u001b[39m:\n\u001b[0;32m      2\u001b[0m     params \u001b[38;5;241m=\u001b[39m {\n\u001b[1;32m----> 3\u001b[0m             \u001b[38;5;124m\"\u001b[39m\u001b[38;5;124mwstoken\u001b[39m\u001b[38;5;124m\"\u001b[39m: \u001b[43mTOKEN\u001b[49m,\n\u001b[0;32m      4\u001b[0m             \u001b[38;5;124m\"\u001b[39m\u001b[38;5;124mwsfunction\u001b[39m\u001b[38;5;124m\"\u001b[39m: fuction,\n\u001b[0;32m      5\u001b[0m             \u001b[38;5;124m\"\u001b[39m\u001b[38;5;124mmoodlewsrestformat\u001b[39m\u001b[38;5;124m\"\u001b[39m: \u001b[38;5;124m\"\u001b[39m\u001b[38;5;124mjson\u001b[39m\u001b[38;5;124m\"\u001b[39m,\n\u001b[0;32m      6\u001b[0m         } \n\u001b[0;32m      7\u001b[0m     params\u001b[38;5;241m.\u001b[39mupdate(kwargs)\n\u001b[0;32m      9\u001b[0m     response \u001b[38;5;241m=\u001b[39m requests\u001b[38;5;241m.\u001b[39mget(url\u001b[38;5;241m=\u001b[39mBASE_URL, params\u001b[38;5;241m=\u001b[39mparams)\n",
      "\u001b[1;31mNameError\u001b[0m: name 'TOKEN' is not defined"
     ]
    }
   ],
   "source": [
    "# different type of content items, does not seem relevant for now\n",
    "get_data(\"core_course_get_course_content_items\", courseid=16) # Dr. med. KI - Basler Modul https://ki-campus-test.fernuni-hagen.de/course/view.php?id=16\n"
   ]
  },
  {
   "cell_type": "code",
   "execution_count": 20,
   "metadata": {},
   "outputs": [
    {
     "ename": "NameError",
     "evalue": "name 'TOKEN' is not defined",
     "output_type": "error",
     "traceback": [
      "\u001b[1;31m---------------------------------------------------------------------------\u001b[0m",
      "\u001b[1;31mNameError\u001b[0m                                 Traceback (most recent call last)",
      "Cell \u001b[1;32mIn[20], line 2\u001b[0m\n\u001b[0;32m      1\u001b[0m \u001b[38;5;66;03m# Does not contain any content, only the titel seems no like no interesting new infromation compared to core_course_get_contents\u001b[39;00m\n\u001b[1;32m----> 2\u001b[0m \u001b[43mget_data\u001b[49m\u001b[43m(\u001b[49m\u001b[38;5;124;43m\"\u001b[39;49m\u001b[38;5;124;43mcore_course_get_course_module\u001b[39;49m\u001b[38;5;124;43m\"\u001b[39;49m\u001b[43m,\u001b[49m\u001b[43m \u001b[49m\u001b[43mcmid\u001b[49m\u001b[38;5;241;43m=\u001b[39;49m\u001b[38;5;241;43m162\u001b[39;49m\u001b[43m)\u001b[49m \u001b[38;5;66;03m# Dr. med. KI - Basler Modul umfrage https://ki-campus-test.fernuni-hagen.de/mod/questionnaire/view.php?id=161\u001b[39;00m\n",
      "Cell \u001b[1;32mIn[15], line 3\u001b[0m, in \u001b[0;36mget_data\u001b[1;34m(fuction, **kwargs)\u001b[0m\n\u001b[0;32m      1\u001b[0m \u001b[38;5;28;01mdef\u001b[39;00m \u001b[38;5;21mget_data\u001b[39m(fuction: \u001b[38;5;28mstr\u001b[39m, \u001b[38;5;241m*\u001b[39m\u001b[38;5;241m*\u001b[39mkwargs) \u001b[38;5;241m-\u001b[39m\u001b[38;5;241m>\u001b[39m \u001b[38;5;28mdict\u001b[39m:\n\u001b[0;32m      2\u001b[0m     params \u001b[38;5;241m=\u001b[39m {\n\u001b[1;32m----> 3\u001b[0m             \u001b[38;5;124m\"\u001b[39m\u001b[38;5;124mwstoken\u001b[39m\u001b[38;5;124m\"\u001b[39m: \u001b[43mTOKEN\u001b[49m,\n\u001b[0;32m      4\u001b[0m             \u001b[38;5;124m\"\u001b[39m\u001b[38;5;124mwsfunction\u001b[39m\u001b[38;5;124m\"\u001b[39m: fuction,\n\u001b[0;32m      5\u001b[0m             \u001b[38;5;124m\"\u001b[39m\u001b[38;5;124mmoodlewsrestformat\u001b[39m\u001b[38;5;124m\"\u001b[39m: \u001b[38;5;124m\"\u001b[39m\u001b[38;5;124mjson\u001b[39m\u001b[38;5;124m\"\u001b[39m,\n\u001b[0;32m      6\u001b[0m         } \n\u001b[0;32m      7\u001b[0m     params\u001b[38;5;241m.\u001b[39mupdate(kwargs)\n\u001b[0;32m      9\u001b[0m     response \u001b[38;5;241m=\u001b[39m requests\u001b[38;5;241m.\u001b[39mget(url\u001b[38;5;241m=\u001b[39mBASE_URL, params\u001b[38;5;241m=\u001b[39mparams)\n",
      "\u001b[1;31mNameError\u001b[0m: name 'TOKEN' is not defined"
     ]
    }
   ],
   "source": [
    "# Does not contain any content, only the titel seems no like no interesting new infromation compared to core_course_get_contents\n",
    "get_data(\"core_course_get_course_module\", cmid=162) # Dr. med. KI - Basler Modul umfrage https://ki-campus-test.fernuni-hagen.de/mod/questionnaire/view.php?id=161\n"
   ]
  },
  {
   "cell_type": "code",
   "execution_count": 21,
   "metadata": {},
   "outputs": [
    {
     "ename": "NameError",
     "evalue": "name 'TOKEN' is not defined",
     "output_type": "error",
     "traceback": [
      "\u001b[1;31m---------------------------------------------------------------------------\u001b[0m",
      "\u001b[1;31mNameError\u001b[0m                                 Traceback (most recent call last)",
      "Cell \u001b[1;32mIn[21], line 2\u001b[0m\n\u001b[0;32m      1\u001b[0m \u001b[38;5;66;03m# Enthält nur den Titel des Inhalts, in anderem Format\u001b[39;00m\n\u001b[1;32m----> 2\u001b[0m html_content \u001b[38;5;241m=\u001b[39m \u001b[43mget_data\u001b[49m\u001b[43m(\u001b[49m\u001b[38;5;124;43m\"\u001b[39;49m\u001b[38;5;124;43mcore_course_get_module\u001b[39;49m\u001b[38;5;124;43m\"\u001b[39;49m\u001b[43m,\u001b[49m\u001b[43m \u001b[49m\u001b[38;5;28;43mid\u001b[39;49m\u001b[38;5;241;43m=\u001b[39;49m\u001b[38;5;241;43m162\u001b[39;49m\u001b[43m)\u001b[49m \u001b[38;5;66;03m# Dr. med. KI - Basler Modul umfrage https://ki-campus-test.fernuni-hagen.de/mod/questionnaire/view.php?id=161\u001b[39;00m\n\u001b[0;32m      3\u001b[0m \u001b[38;5;28mprint\u001b[39m(html_content)\n",
      "Cell \u001b[1;32mIn[15], line 3\u001b[0m, in \u001b[0;36mget_data\u001b[1;34m(fuction, **kwargs)\u001b[0m\n\u001b[0;32m      1\u001b[0m \u001b[38;5;28;01mdef\u001b[39;00m \u001b[38;5;21mget_data\u001b[39m(fuction: \u001b[38;5;28mstr\u001b[39m, \u001b[38;5;241m*\u001b[39m\u001b[38;5;241m*\u001b[39mkwargs) \u001b[38;5;241m-\u001b[39m\u001b[38;5;241m>\u001b[39m \u001b[38;5;28mdict\u001b[39m:\n\u001b[0;32m      2\u001b[0m     params \u001b[38;5;241m=\u001b[39m {\n\u001b[1;32m----> 3\u001b[0m             \u001b[38;5;124m\"\u001b[39m\u001b[38;5;124mwstoken\u001b[39m\u001b[38;5;124m\"\u001b[39m: \u001b[43mTOKEN\u001b[49m,\n\u001b[0;32m      4\u001b[0m             \u001b[38;5;124m\"\u001b[39m\u001b[38;5;124mwsfunction\u001b[39m\u001b[38;5;124m\"\u001b[39m: fuction,\n\u001b[0;32m      5\u001b[0m             \u001b[38;5;124m\"\u001b[39m\u001b[38;5;124mmoodlewsrestformat\u001b[39m\u001b[38;5;124m\"\u001b[39m: \u001b[38;5;124m\"\u001b[39m\u001b[38;5;124mjson\u001b[39m\u001b[38;5;124m\"\u001b[39m,\n\u001b[0;32m      6\u001b[0m         } \n\u001b[0;32m      7\u001b[0m     params\u001b[38;5;241m.\u001b[39mupdate(kwargs)\n\u001b[0;32m      9\u001b[0m     response \u001b[38;5;241m=\u001b[39m requests\u001b[38;5;241m.\u001b[39mget(url\u001b[38;5;241m=\u001b[39mBASE_URL, params\u001b[38;5;241m=\u001b[39mparams)\n",
      "\u001b[1;31mNameError\u001b[0m: name 'TOKEN' is not defined"
     ]
    }
   ],
   "source": [
    "# Enthält nur den Titel des Inhalts, in anderem Format\n",
    "html_content = get_data(\"core_course_get_module\", id=162) # Dr. med. KI - Basler Modul umfrage https://ki-campus-test.fernuni-hagen.de/mod/questionnaire/view.php?id=161\n",
    "print(html_content)\n"
   ]
  },
  {
   "cell_type": "code",
   "execution_count": 22,
   "metadata": {},
   "outputs": [
    {
     "ename": "NameError",
     "evalue": "name 'TOKEN' is not defined",
     "output_type": "error",
     "traceback": [
      "\u001b[1;31m---------------------------------------------------------------------------\u001b[0m",
      "\u001b[1;31mNameError\u001b[0m                                 Traceback (most recent call last)",
      "Cell \u001b[1;32mIn[22], line 2\u001b[0m\n\u001b[0;32m      1\u001b[0m \u001b[38;5;66;03m# core_course_get_courses_by_field\u001b[39;00m\n\u001b[1;32m----> 2\u001b[0m html_content \u001b[38;5;241m=\u001b[39m \u001b[43mget_data\u001b[49m\u001b[43m(\u001b[49m\u001b[38;5;124;43m\"\u001b[39;49m\u001b[38;5;124;43mcore_course_get_module\u001b[39;49m\u001b[38;5;124;43m\"\u001b[39;49m\u001b[43m,\u001b[49m\u001b[43m \u001b[49m\u001b[38;5;28;43mid\u001b[39;49m\u001b[38;5;241;43m=\u001b[39;49m\u001b[38;5;241;43m162\u001b[39;49m\u001b[43m)\u001b[49m \u001b[38;5;66;03m# Dr. med. KI - Basler Modul umfrage https://ki-campus-test.fernuni-hagen.de/mod/questionnaire/view.php?id=161\u001b[39;00m\n\u001b[0;32m      3\u001b[0m \u001b[38;5;28mprint\u001b[39m(html_content)\n",
      "Cell \u001b[1;32mIn[15], line 3\u001b[0m, in \u001b[0;36mget_data\u001b[1;34m(fuction, **kwargs)\u001b[0m\n\u001b[0;32m      1\u001b[0m \u001b[38;5;28;01mdef\u001b[39;00m \u001b[38;5;21mget_data\u001b[39m(fuction: \u001b[38;5;28mstr\u001b[39m, \u001b[38;5;241m*\u001b[39m\u001b[38;5;241m*\u001b[39mkwargs) \u001b[38;5;241m-\u001b[39m\u001b[38;5;241m>\u001b[39m \u001b[38;5;28mdict\u001b[39m:\n\u001b[0;32m      2\u001b[0m     params \u001b[38;5;241m=\u001b[39m {\n\u001b[1;32m----> 3\u001b[0m             \u001b[38;5;124m\"\u001b[39m\u001b[38;5;124mwstoken\u001b[39m\u001b[38;5;124m\"\u001b[39m: \u001b[43mTOKEN\u001b[49m,\n\u001b[0;32m      4\u001b[0m             \u001b[38;5;124m\"\u001b[39m\u001b[38;5;124mwsfunction\u001b[39m\u001b[38;5;124m\"\u001b[39m: fuction,\n\u001b[0;32m      5\u001b[0m             \u001b[38;5;124m\"\u001b[39m\u001b[38;5;124mmoodlewsrestformat\u001b[39m\u001b[38;5;124m\"\u001b[39m: \u001b[38;5;124m\"\u001b[39m\u001b[38;5;124mjson\u001b[39m\u001b[38;5;124m\"\u001b[39m,\n\u001b[0;32m      6\u001b[0m         } \n\u001b[0;32m      7\u001b[0m     params\u001b[38;5;241m.\u001b[39mupdate(kwargs)\n\u001b[0;32m      9\u001b[0m     response \u001b[38;5;241m=\u001b[39m requests\u001b[38;5;241m.\u001b[39mget(url\u001b[38;5;241m=\u001b[39mBASE_URL, params\u001b[38;5;241m=\u001b[39mparams)\n",
      "\u001b[1;31mNameError\u001b[0m: name 'TOKEN' is not defined"
     ]
    }
   ],
   "source": [
    "# core_course_get_courses_by_field\n",
    "html_content = get_data(\"core_course_get_module\", id=162) # Dr. med. KI - Basler Modul umfrage https://ki-campus-test.fernuni-hagen.de/mod/questionnaire/view.php?id=161\n",
    "print(html_content)"
   ]
  },
  {
   "cell_type": "markdown",
   "metadata": {},
   "source": [
    "# Is the moochup API a subset of moodle API "
   ]
  },
  {
   "cell_type": "code",
   "execution_count": 23,
   "metadata": {},
   "outputs": [
    {
     "ename": "ImportError",
     "evalue": "cannot import name 'fetch_data' from 'src.loaders.moochup' (C:\\Users\\FatemehSalehi\\Documents\\kic-web-assistant\\src\\loaders\\moochup.py)",
     "output_type": "error",
     "traceback": [
      "\u001b[1;31m---------------------------------------------------------------------------\u001b[0m",
      "\u001b[1;31mImportError\u001b[0m                               Traceback (most recent call last)",
      "Cell \u001b[1;32mIn[23], line 1\u001b[0m\n\u001b[1;32m----> 1\u001b[0m \u001b[38;5;28;01mfrom\u001b[39;00m \u001b[38;5;21;01msrc\u001b[39;00m\u001b[38;5;21;01m.\u001b[39;00m\u001b[38;5;21;01mloaders\u001b[39;00m\u001b[38;5;21;01m.\u001b[39;00m\u001b[38;5;21;01mmoochup\u001b[39;00m \u001b[38;5;28;01mimport\u001b[39;00m fetch_data\n\u001b[0;32m      2\u001b[0m \u001b[38;5;28;01mfrom\u001b[39;00m \u001b[38;5;21;01msrc\u001b[39;00m\u001b[38;5;21;01m.\u001b[39;00m\u001b[38;5;21;01mloaders\u001b[39;00m\u001b[38;5;21;01m.\u001b[39;00m\u001b[38;5;21;01mmoodle\u001b[39;00m \u001b[38;5;28;01mimport\u001b[39;00m Moodle\n\u001b[0;32m      4\u001b[0m moodle \u001b[38;5;241m=\u001b[39m Moodle(environment\u001b[38;5;241m=\u001b[39m\u001b[38;5;124m\"\u001b[39m\u001b[38;5;124mPRODUCTION\u001b[39m\u001b[38;5;124m\"\u001b[39m)\u001b[38;5;241m.\u001b[39mextract()\n",
      "\u001b[1;31mImportError\u001b[0m: cannot import name 'fetch_data' from 'src.loaders.moochup' (C:\\Users\\FatemehSalehi\\Documents\\kic-web-assistant\\src\\loaders\\moochup.py)"
     ]
    }
   ],
   "source": [
    "from src.loaders.moochup import fetch_data\n",
    "from src.loaders.moodle import Moodle\n",
    "\n",
    "moodle = Moodle(environment=\"PRODUCTION\").extract()\n",
    "moodle"
   ]
  },
  {
   "cell_type": "code",
   "execution_count": 24,
   "metadata": {},
   "outputs": [
    {
     "data": {
      "text/plain": [
       "{'links': {'self': 'https://moodle.ki-campus.org/local/open_api/courses.php?page=0',\n",
       "  'first': 'https://moodle.ki-campus.org/local/open_api/courses.php?page=0',\n",
       "  'last': 'https://moodle.ki-campus.org/local/open_api/courses.php?page=0',\n",
       "  'next': '',\n",
       "  'previous': ''},\n",
       " 'data': [{'id': '1',\n",
       "   'type': 'courses',\n",
       "   'attributes': {'name': 'KI-Campus',\n",
       "    'abstract': '<p dir=\"ltr\" style=\"text-align: left;\">Hier findest du eine Übersicht Deiner eingeschriebenen Kurse im KI-Campus-Moodle. Eine Übersicht über alle Lernangebote des KI-Campus findest du auf unserer Hauptseite. <br></p>\\r\\n<p dir=\"ltr\" style=\"text-align: left;\"><br></p>\\r\\n<div class=\"navitem\" style=\"text-align: center;\"><a class=\"btn btn-primary\" href=\"https://ki-campus.org/overview\">Zurück zu allen Lernangeboten</a></div>',\n",
       "    'languages': [],\n",
       "    'uniformResourceLocator': 'https://moodle.ki-campus.org/course/view.php?id=1',\n",
       "    'instructors': [{'id': '11450', 'name': 'Jasmina Idler'},\n",
       "     {'id': '3251', 'name': 'Natalie Sontopski'}]}},\n",
       "  {'id': '6',\n",
       "   'type': 'courses',\n",
       "   'attributes': {'name': 'Introduction to Machine Learning Part 1: Foundations',\n",
       "    'abstract': '<h5><span style=\"\"><span class=\"\" style=\"font-weight: normal; color: rgb(0, 0, 0);\">\\r\\n<p><strong>Machine Learning (ML)&nbsp;</strong>is at the core of many applications of <strong>artificial intelligence</strong>. A key goal of this course series is to teach the <strong>fundamental building blocks </strong>behind<strong> supervised ML</strong>. Additional to <strong>understanding</strong> the theoretical basics, participants will learn how to <strong>apply</strong> and evaluate different ML algorithms in <strong>R and Python </strong>with a focus on tabular data.</p>\\r\\n<p>After a general <strong>introduction to the basics of ML</strong> in part 1/3, participants will get in touch with several <strong>learning algorithms</strong> such as <strong>k-nearest neighbors, classification and regression trees, random forests, and deep neural networks</strong> in part 2/3. Finally, we will cover the <strong>evaluation and tuning of ML models</strong> in depth in part 3/3.</p></span></span></h5>',\n",
       "    'languages': [],\n",
       "    'uniformResourceLocator': 'https://moodle.ki-campus.org/course/view.php?id=6',\n",
       "    'instructors': []}},\n",
       "  {'id': '10',\n",
       "   'type': 'courses',\n",
       "   'attributes': {'name': 'Dr. med. KI - Ethics',\n",
       "    'abstract': '<p dir=\"ltr\" style=\"text-align: left;\">Erfahre in diesem interaktiven Lernangebot aus der Reihe Dr. med. KI, welche ethische Fragen sich aus der Nutzung von KI-Anwendungen und Technologien in medizinischen Bereichen ergeben und wie sich die Verwendung auf das Verhältnis zwischen Ärzt:innen und Patinet:innen auswirkt. Finde im Kurs auch heraus, welche Rolle Aspekte wie Regulierung, Innovation und erklärbare KI (XAI) im ethischen Kontexten spielen und wie mit Formen der digitalen Diskriminierung umgegangen werden kann.<br></p>',\n",
       "    'languages': [],\n",
       "    'uniformResourceLocator': 'https://moodle.ki-campus.org/course/view.php?id=10',\n",
       "    'instructors': [{'id': '4', 'name': 'Mike Bernd'},\n",
       "     {'id': '1437', 'name': 'Marina Lex'},\n",
       "     {'id': '29', 'name': 'Elena Rätsch'},\n",
       "     {'id': '150', 'name': 'Moritz Seiler'}]}},\n",
       "  {'id': '19',\n",
       "   'type': 'courses',\n",
       "   'attributes': {'name': 'Sprachassistenzen als Chance für die Hochschullehre',\n",
       "    'abstract': '<p dir=\"ltr\" style=\"text-align: left;\"></p><p></p>KI-Chatbots wie&nbsp;<strong>ChatGPT&nbsp;</strong>sorgen seit Ende 2022 für Gesprächsstoff rund um den Einsatz intelligenter Systeme in Bildungsinstitutionen und für&nbsp;oft auch emotional aufgeladene Diskussionen zu&nbsp;<strong>Möglichkeiten und Grenzen generativer KI</strong>.&nbsp;<br><br>Mit dem Kurs&nbsp;<strong>Sprachassistenzen als Chance für die Hochschullehre</strong>&nbsp;sollen Hochschullehrende&nbsp;<strong>KI-Sprachmodelle im Bildungskontext kreativ erproben</strong>&nbsp;und gleichzeitig auch kritisch hinterfragen können. So sollen Ängste im Umgang mit generativer KI abgebaut und die Rolle von Lehrenden als Lernbegleiter in einer durch digitale Tools geprägten Welt gestärkt werden. Angestrebt wird ein Perspektivwechsel, der sich mit den&nbsp;<strong>Chancen intelligenter Sprachtechnologien für die universitäre Lehre</strong>&nbsp;beschäftigt.<br><p></p>',\n",
       "    'languages': ['de'],\n",
       "    'uniformResourceLocator': 'https://moodle.ki-campus.org/course/view.php?id=19',\n",
       "    'instructors': [{'id': '47', 'name': 'Isabella Buck'},\n",
       "     {'id': '44', 'name': 'Aljoscha Burchardt'},\n",
       "     {'id': '168', 'name': 'Anika Limburg'},\n",
       "     {'id': '43', 'name': 'Christian Spannagel'}]}},\n",
       "  {'id': '27',\n",
       "   'type': 'courses',\n",
       "   'attributes': {'name': 'Identifikation geeigneter KI-Anwendungsfälle',\n",
       "    'abstract': '<p dir=\"ltr\" style=\"text-align: left;\"></p><p></p><h4>Willkommen zum Online-Kurs \"Identifikation geeigneter KI-Anwendungsfälle\"!&nbsp;</h4><p><br>Wir freuen uns sehr, dass Sie gemeinsam mit uns auf die Reise gehen, um die&nbsp;<strong>Möglichkeiten der künstlichen Intelligenz in Ihrem Unternehmen</strong>&nbsp;zu erkunden!&nbsp;<br><br></p><p></p><h5>Hinweis: Weitere Module befinden sich noch in Bearbeitung und werden schrittweise veröffentlicht.</h5><br><p></p><h5>Kursstruktur und Lernmaterial:</h5><h5>Der Kurs ist in<strong>&nbsp;zehn Module</strong>&nbsp;unterteilt, die einen umfassenden Überblick über die Identifikation geeigneter KI-Anwendungsfälle bieten. In den ersten Modulen werden&nbsp;<strong>KI-</strong><strong>Grundlagen&nbsp;</strong>behandelt. Zudem erfolgt eine Hinführung in die Methode zur Identifikation geeigneter KI-Anwendungsfälle. Dabei werden wesentliche Konzepte erklärt, um sicherzustellen, dass Sie die erforderlichen Kenntnisse für die kommenden Module und Methoden-Phasen besitzen.<br></h5><p>Das Hauptaugenmerk liegt auf der detaillierten Vorstellung unserer&nbsp;<strong>Methode zur Identifikation geeigneter KI-Anwendungsfälle</strong>. Jede Methoden-Phase wird durch<strong>&nbsp;Lernvideos</strong>&nbsp;erklärt. Perspektivisch werden die Videos in transkribierter Version sowie mit Untertiteln zur Verfügung gestellt.<br><br>Zusätzlich bieten wir&nbsp;<strong>weiterführende Links und Materialien</strong>&nbsp;an, falls Sie bestimmte Aspekte vertiefen möchten.<br>Unser Ziel ist es, dass Sie nach Abschluss des Online-Kurses in der Lage sind, die Methode in Ihrem individuellen Unternehmenskontext anzuwenden.</p><p>Der Online-Kurs schließt mit&nbsp;<strong>gesellschaftlichen Aspekten</strong>&nbsp;von KI-Anwendungsfällen ab.<br>Im entsprechenden Modul erfahren Sie, welche ethischen und sozialen Überlegungen bei der praktischen Umsetzung der Methode zu berücksichtigen sind.</p><p></p><h5></h5><h5><br></h5><h5>Selbsttests und Lernzielchecks:</h5><p>Selbsttests (unbenotete Aufgaben) geben Ihnen ein erstes Feedback, ob Sie die wichtigsten Lerninhalte verstanden haben,&nbsp;<br>Neben Selbsttests können Sie über Lernziel-Checks benotete Aufgaben absolvieren. Diese Aufgaben ermöglichen es Ihnen, Ihr Wissen zu überprüfen und Lerninhalte gezielt zu festigen.&nbsp;<strong>Unser Ziel ist es, dass Sie am Ende des Kurses nicht nur theoretisch vertraut mit der Methode sind, sondern auch in der Praxis sicher damit arbeiten können.</strong></p><h4></h4><p>Wir hoffen, dass Sie den Kurs als lehrreich und inspirierend empfinden. Bei Fragen stehen wir Ihnen gerne zur Verfügung.</p><br><p></p>',\n",
       "    'languages': ['de'],\n",
       "    'uniformResourceLocator': 'https://moodle.ki-campus.org/course/view.php?id=27',\n",
       "    'instructors': [{'id': '3177', 'name': 'Timo Böttcher'},\n",
       "     {'id': '5542', 'name': 'Lukas Dassler'},\n",
       "     {'id': '3123', 'name': 'Helmut Krcmar'},\n",
       "     {'id': '288', 'name': 'Felix Straub'},\n",
       "     {'id': '3025', 'name': 'Michael Weber'}]}},\n",
       "  {'id': '28',\n",
       "   'type': 'courses',\n",
       "   'attributes': {'name': 'Künstliche Intelligenz im Handel',\n",
       "    'abstract': '<p style=\"text-align: left;\"><span style=\"color: rgb(73, 80, 87); font-family: Poppins, sans-serif; font-size: 0.8375rem;\"></span></p><h5><span style=\"font-weight: normal;\"><span class=\"\" style=\"color: rgb(0, 0, 0);\">Dieser Online-Selbstlernkurs richtet sich an Studierende des Bachelor-Studiengangs Betriebswirtschaftslehre und Betriebswirte in Unternehmen, sowie weitere Interessierte, die KI-Technologien in ihrem beruflichen Kontext verstehen und anwenden möchten.&nbsp;</span><br></span><span style=\"font-weight: normal;\"><span class=\"\" style=\"color: rgb(0, 0, 0);\"><br></span></span></h5><h5><span style=\"font-weight: normal;\"><span class=\"\" style=\"color: rgb(0, 0, 0);\">Im Kurs beleuchten wir den Handelssektor als praxisnahes Beispiel, um die vielfältigen Einsatzmöglichkeiten von KI aufzuzeigen. Neben relevantem Grundlagenwissen, erwirbst du Kenntnisse über mathematisch-statistische Methoden und deren Anwendung.&nbsp;</span><br></span><span style=\"font-weight: normal; color: rgb(0, 0, 0);\" class=\"\"><br></span></h5><h5><span style=\"font-weight: normal; color: rgb(0, 0, 0);\" class=\"\">Im weiteren Verlauf laden wir dich dein, die Methoden durch anwendungsbezogene Python Programmierübungen selbst auszuprobieren und deine Programmierkenntnisse durch ausgewählte Übungen zu vertiefen.&nbsp;</span></h5><p dir=\"ltr\" style=\"text-align: left;\"><span style=\"font-size: 0.8375rem;\"></span></p><p></p>',\n",
       "    'languages': ['de'],\n",
       "    'uniformResourceLocator': 'https://moodle.ki-campus.org/course/view.php?id=28',\n",
       "    'instructors': [{'id': '331', 'name': 'Oliver Janz'},\n",
       "     {'id': '2212', 'name': 'Johannes Kolb'},\n",
       "     {'id': '2520', 'name': 'Armin Müller'},\n",
       "     {'id': '2264', 'name': 'Daniela Wiehenbrauk'}]}},\n",
       "  {'id': '29',\n",
       "   'type': 'courses',\n",
       "   'attributes': {'name': 'Sozialverantwortliche KI-Gestaltung',\n",
       "    'abstract': '<p dir=\"ltr\" style=\"text-align: left;\"></p><p dir=\"ltr\">In der Lerneinheit <strong>\"Sozialverantwortliche KI-Gestaltung\"</strong> lernen Sie, worauf man achten muss, um KI-Systeme fair zu gestalten - insbesondere im Hinblick auf Geschlechtergerechtigkeit.&nbsp;</p><p dir=\"ltr\">Die Lerneinheit umfasst<strong> 5&nbsp;</strong><strong>Wissensnuggets</strong>, die aufeinander aufbauen, aber auch einzeln genutzt werden können, um einen kurzen Einblick in das jeweilige Thema zu erhalten.</p><p></p>',\n",
       "    'languages': ['de'],\n",
       "    'uniformResourceLocator': 'https://moodle.ki-campus.org/course/view.php?id=29',\n",
       "    'instructors': [{'id': '759', 'name': 'Nicole Dierolf'},\n",
       "     {'id': '308', 'name': 'Nicola Marsden'},\n",
       "     {'id': '9679', 'name': 'Annelie Rothe-Wulf'},\n",
       "     {'id': '761', 'name': 'Edda Sellin'}]}},\n",
       "  {'id': '35',\n",
       "   'type': 'courses',\n",
       "   'attributes': {'name': 'Prompt-Labor: Generative KI in der Hochschullehre',\n",
       "    'abstract': '<h4><span style=\"font-size: 0.9375rem;\">Praktische Erfahrungen mit generativer KI sammeln im Prompt-Labor</span></h4><p dir=\"ltr\"><span style=\"font-size: 0.9375rem;\">Dieser Kurs stellt vorbereitende und weiterführende Inhalte für das „Prompt-Labor Generative KI in der Hochschullehre“ zur Verfügung – einem community-orientierten Experimentierraum für Hochschullehrende, der gemeinsam vom KI-Campus und dem Hochschulforum Digitalisierung (HFD) angeboten wurde. Kern des Angebots waren 2023 drei Live-Sessions mit praktischen Übungen. Vorbereitet, begleitet und nachbereitet wurden sie mit den Materialien in diesem Moodle-Kurs. Das Prompt-Labor ermöglichte es, praktische Erfahrungen beim Verfassen von Prompts (Anweisungen für generative KI-Tools) zu sammeln und gemeinsam Anwendungsszenarien im Kontext der Hochschullehre zu diskutieren.</span></p><p dir=\"ltr\"><strong>Im Sommer 2024 geht das Prompt-Labor in die nächste Runde: Gegenwärtig entsteht in Zusammenarbeit mit Malte Persike ein Selbstlernkurs, der ab August auf dem KI-Campus angeboten wird. Alle hier gesammelten Materialen stellen wir weiterhin als Materialsammlung zur Verfügung.&nbsp;</strong></p>',\n",
       "    'languages': [],\n",
       "    'uniformResourceLocator': 'https://moodle.ki-campus.org/course/view.php?id=35',\n",
       "    'instructors': [{'id': '60', 'name': 'Stefan Göllner'},\n",
       "     {'id': '157', 'name': 'Lavinia Ionica'},\n",
       "     {'id': '168', 'name': 'Anika Limburg'},\n",
       "     {'id': '3334', 'name': 'Malte Persike'},\n",
       "     {'id': '3251', 'name': 'Natalie Sontopski'}]}},\n",
       "  {'id': '36',\n",
       "   'type': 'courses',\n",
       "   'attributes': {'name': 'Dr. med. KI - Basler Modul',\n",
       "    'abstract': '<p dir=\"ltr\" style=\"text-align: left;\"></p><p><span style=\"font-weight: normal; color: rgb(0, 0, 0);\" class=\"\">Dr. med. KI – erfahre, wie KI funktioniert und in der Medizin angewendet wird. Hier findest du Antworten auf Fragen wie: Was ist überhaupt KI? Warum sind Daten so wichtig? Wie wird KI eingesetzt, um Krankheiten wie Krebs besser zu diagnostizieren? Auch ethische und rechtliche Fragen kommen nicht zu kurz: Werden in Zukunft alle Ärzt:innen durch Roboter ersetzt? Welche Potentiale oder Risiken entstehen durch KI für das Patientenwohl?</span></p><br><p></p>',\n",
       "    'languages': [],\n",
       "    'uniformResourceLocator': 'https://moodle.ki-campus.org/course/view.php?id=36',\n",
       "    'instructors': [{'id': '4', 'name': 'Mike Bernd'},\n",
       "     {'id': '1127', 'name': 'Jenny Brandt'}]}},\n",
       "  {'id': '37',\n",
       "   'type': 'courses',\n",
       "   'attributes': {'name': 'KI-Grundlagen - Micro-Credential I HU Berlin',\n",
       "    'abstract': '<p dir=\"ltr\" style=\"text-align: left;\">1. Micro-Credential des KI-Micro-Degrees für Lehrende an der HU Berlin. <br></p>',\n",
       "    'languages': [],\n",
       "    'uniformResourceLocator': 'https://moodle.ki-campus.org/course/view.php?id=37',\n",
       "    'instructors': [{'id': '1023', 'name': 'Tabea Reisdorf'}]}},\n",
       "  {'id': '50',\n",
       "   'type': 'courses',\n",
       "   'attributes': {'name': 'Reinforcement Learning',\n",
       "    'abstract': '<p dir=\"ltr\" style=\"text-align: left;\">In recent years, reinforcement learning (RL) has produced some of the most impressive results in machine learning (ML), especially in games (such as the game of Go) and robotics (e.g., RoboCup or autonomously navigating robots). Viewing the ML model as an agent operating in an environment enables learning by trial and error and, thus, inferences beyond expert human knowledge. RL is a rapidly evolving field, constantly developing new algorithms and applications. Therefore, this course will begin by teaching the mathematical foundations of RL and provide an overview of the development of the field to date. By the end of the course, participants will be able to understand the current state of RL research and justify the theoretical foundations of the various RL approaches. The accompanying exercises will introduce you to implementing various RL algorithms and the general RL pipeline, including learning environments, agent evaluation, and hyperparameter settings. At the end of the course, you will apply your new skills to an interesting RL project of your choice. The material plan includes Markov Decision Processes, Value-function Approximation, Policy Search, Model-based RL, Deep RL, and meta-RL, among others.<br></p>',\n",
       "    'languages': ['en'],\n",
       "    'uniformResourceLocator': 'https://moodle.ki-campus.org/course/view.php?id=50',\n",
       "    'instructors': [{'id': '1702', 'name': 'Marius Lindauer'},\n",
       "     {'id': '1892', 'name': 'Aditya Mohan'}]}},\n",
       "  {'id': '55',\n",
       "   'type': 'courses',\n",
       "   'attributes': {'name': 'KI-Vertiefung und Ethik - Micro-Credential II HU Berlin',\n",
       "    'abstract': '<p dir=\"ltr\" style=\"text-align: left;\">2. Micro-Credential des KI-Micro-Degrees für Lehrende an der HU Berlin.<br></p>',\n",
       "    'languages': [],\n",
       "    'uniformResourceLocator': 'https://moodle.ki-campus.org/course/view.php?id=55',\n",
       "    'instructors': [{'id': '1023', 'name': 'Tabea Reisdorf'}]}},\n",
       "  {'id': '56',\n",
       "   'type': 'courses',\n",
       "   'attributes': {'name': 'Dr. med. KI - Basics',\n",
       "    'abstract': '<h5><span style=\"font-weight: normal; color: rgb(0, 0, 0);\" class=\"\">Dr. med. KI – erfahre, wie KI funktioniert und in der Medizin angewendet wird. Hier findest du Antworten auf Fragen wie: Was ist überhaupt KI? Warum sind Daten so wichtig? Wie wird KI eingesetzt, um Krankheiten wie Krebs besser zu diagnostizieren? Auch ethische und rechtliche Fragen kommen nicht zu kurz: Werden in Zukunft alle Ärzt*innen durch Roboter ersetzt? Welche Potentiale oder Risiken entstehen durch KI für das Wohl von Patient:innen?</span></h5><br>\\r\\n<p></p>',\n",
       "    'languages': [],\n",
       "    'uniformResourceLocator': 'https://moodle.ki-campus.org/course/view.php?id=56',\n",
       "    'instructors': [{'id': '1437', 'name': 'Marina Lex'},\n",
       "     {'id': '171', 'name': 'Susann Ludorf'},\n",
       "     {'id': '29', 'name': 'Elena Rätsch'},\n",
       "     {'id': '30', 'name': 'Linos Ullmann'}]}},\n",
       "  {'id': '57',\n",
       "   'type': 'courses',\n",
       "   'attributes': {'name': 'KI-Didaktik in der Hochschullehre - Micro-Credential III HU Berlin',\n",
       "    'abstract': '<p dir=\"ltr\" style=\"text-align: left;\">3. Micro-Credential des KI-Micro-Degrees für Lehrende an der HU Berlin.<br></p>',\n",
       "    'languages': ['de'],\n",
       "    'uniformResourceLocator': 'https://moodle.ki-campus.org/course/view.php?id=57',\n",
       "    'instructors': [{'id': '1023', 'name': 'Tabea Reisdorf'}]}},\n",
       "  {'id': '58',\n",
       "   'type': 'courses',\n",
       "   'attributes': {'name': 'AICE your exams – Generative KI als Copilot im Schul- und Unialltag',\n",
       "    'abstract': '<p dir=\"ltr\" style=\"text-align: left;\"></p><p><span style=\"font-size: 0.9375rem;\">Der Kurs</span><strong style=\"font-size: 0.9375rem;\"> AIce Your Exams - Generative KI als Copilot im Schul-und Unialltag&nbsp;</strong><span style=\"font-size: 0.9375rem;\">ermöglicht einen praktischen und interaktiven Einstieg in die Welt der </span><strong style=\"font-size: 0.9375rem;\">generativen KI</strong><span style=\"font-size: 0.9375rem;\">. Entwickelt und durchgeführt von Studierenden, legt der Kurs einen besonderen Fokus auf relevante Anwendungen Generativer KI im akademischen Kontext und dessen Einsatz für das persönliche Lernen in Schule und Studium.</span><br></p><p>In unserem Kurs lernst du die technischen <strong>Grundlagen von Generativer KI und Deep Learning</strong> kennen. Nachdem du dir ein erstes technisches Verständnis angeeignet hast, tauchst du in die Welt des <strong>Prompt Engineering für Large Language Models </strong>ein und lernst verschiedene Methoden kennen&nbsp;um die Outputs von Sprachmodellen für die eigene Nutzung im Alltag zu verbessern. Darüber hinaus erkunden wir im Kurs neben ChatGPT weitere KI-Tools und deren Anwendungsgebiete. Zum Abschluss des Kurses thematisieren wir die Auswirkungen generativer KI auf den studentischen Alltag und die Gesellschaft.&nbsp;</p> <strong>Angeboten von:&nbsp;</strong><a href=\"https://moodle.ki-campus.org/user/profile.php?id=2048\" target=\"_blank\">Jan Plüer</a><br><span><strong>Angeboten von:&nbsp;</strong><a href=\"https://moodle.ki-campus.org/user/profile.php?id=2292\" style=\"\">Henri Zalbertus</a></span><br><p></p>',\n",
       "    'languages': [],\n",
       "    'uniformResourceLocator': 'https://moodle.ki-campus.org/course/view.php?id=58',\n",
       "    'instructors': []}},\n",
       "  {'id': '59',\n",
       "   'type': 'courses',\n",
       "   'attributes': {'name': 'FeU-KI-Campus im Modul B3 Hybrid-Seminar: \"Lehren und Lernen mit KI – pädagogische Anwendungen und bildungswissenschaftliche Reflexionen\" ',\n",
       "    'abstract': '<p dir=\"ltr\" style=\"text-align: left;\"></p><p></p><br><p></p>',\n",
       "    'languages': ['de'],\n",
       "    'uniformResourceLocator': 'https://moodle.ki-campus.org/course/view.php?id=59',\n",
       "    'instructors': []}},\n",
       "  {'id': '63',\n",
       "   'type': 'courses',\n",
       "   'attributes': {'name': 'KI und Ziele für nachhaltige Entwicklung',\n",
       "    'abstract': '<p dir=\"ltr\" style=\"text-align: left;\">KI trifft Bildung für nachhaltige Entwicklung. Entdecke in unserem kostenlosen Online-Kurs, wie Künstliche Intelligenz helfen kann, die Welt nachhaltiger zu gestalten. Jetzt reinschnuppern! <br></p>',\n",
       "    'languages': ['de'],\n",
       "    'uniformResourceLocator': 'https://moodle.ki-campus.org/course/view.php?id=63',\n",
       "    'instructors': []}},\n",
       "  {'id': '64',\n",
       "   'type': 'courses',\n",
       "   'attributes': {'name': 'Schule macht KI',\n",
       "    'abstract': '<p dir=\"ltr\" style=\"text-align: left;\">In unserem Online-Kurs lernst du Grundlagen zu Künstlicher Intelligenz und entwickelst mit Schüler:innen neue Ideen zur Zukunft mit KI. Willkommen!<br></p>',\n",
       "    'languages': ['de'],\n",
       "    'uniformResourceLocator': 'https://moodle.ki-campus.org/course/view.php?id=64',\n",
       "    'instructors': []}},\n",
       "  {'id': '66',\n",
       "   'type': 'courses',\n",
       "   'attributes': {'name': 'Introduction to Machine Learning Part 2: Algorithms',\n",
       "    'abstract': '<h5><span style=\"\"><span class=\"\" style=\"font-weight: normal; color: rgb(0, 0, 0);\">\\r\\n<p><strong>Machine Learning (ML)&nbsp;</strong>is at the core of many applications of <strong>artificial intelligence</strong>. A key goal of this course series is to teach the <strong>fundamental building blocks </strong>behind<strong> supervised ML</strong>. Additional to <strong>understanding</strong> the theoretical basics, participants will learn how to <strong>apply</strong> and evaluate different ML algorithms in <strong>R and Python </strong>with a focus on tabular data.</p>\\r\\n<p>After a general <strong>introduction to the basics of ML</strong> in part 1/3, participants will get in touch with several <strong>learning algorithms</strong> such as <strong>k-nearest neighbors, classification and regression trees, random forests, and deep neural networks</strong> in part 2/3. Finally, we will cover the <strong>evaluation and tuning of ML models</strong> in depth in part 3/3.</p><br></span></span></h5>',\n",
       "    'languages': [],\n",
       "    'uniformResourceLocator': 'https://moodle.ki-campus.org/course/view.php?id=66',\n",
       "    'instructors': []}},\n",
       "  {'id': '67',\n",
       "   'type': 'courses',\n",
       "   'attributes': {'name': 'Introduction to Machine Learning Part 3: Evaluation and Tuning',\n",
       "    'abstract': '<h5><span style=\"\"><span class=\"\" style=\"font-weight: normal; color: rgb(0, 0, 0);\">\\r\\n<p><strong>Machine Learning (ML)&nbsp;</strong>is at the core of many applications of <strong>artificial intelligence</strong>. A key goal of this course series is to teach the <strong>fundamental building blocks </strong>behind<strong> supervised ML</strong>. Additional to <strong>understanding</strong> the theoretical basics, participants will learn how to <strong>apply</strong> and evaluate different ML algorithms in <strong>R and Python </strong>with a focus on tabular data.</p>\\r\\n<p>After a general <strong>introduction to the basics of ML</strong> in part 1/3, participants will get in touch with several <strong>learning algorithms</strong> such as <strong>k-nearest neighbors, classification and regression trees, random forests, and deep neural networks</strong> in part 2/3. Finally, we will cover the <strong>evaluation and tuning of ML models</strong> in depth in part 3/3.</p></span></span></h5>',\n",
       "    'languages': [],\n",
       "    'uniformResourceLocator': 'https://moodle.ki-campus.org/course/view.php?id=67',\n",
       "    'instructors': []}},\n",
       "  {'id': '76',\n",
       "   'type': 'courses',\n",
       "   'attributes': {'name': 'Data Literacy für die Grundschule',\n",
       "    'abstract': '<p dir=\"ltr\" style=\"text-align: left;\">Erkunde im Online-Kurs das Thema Daten und erhalte Ideen für die kindgerechte Umsetzung im Grunschulunterricht. Jetzt entdecken! <br></p>',\n",
       "    'languages': ['de'],\n",
       "    'uniformResourceLocator': 'https://moodle.ki-campus.org/course/view.php?id=76',\n",
       "    'instructors': []}},\n",
       "  {'id': '78',\n",
       "   'type': 'courses',\n",
       "   'attributes': {'name': 'Dr. med. KI - Grundlagen für Ärztinnen und Ärzte',\n",
       "    'abstract': '<p style=\"text-align: left;\"><span style=\"font-weight: normal; color: rgb(0, 0, 0);\" class=\"\">Erlernen Sie in diesem interaktiven Lernangebot wichtige Grundlagen zu Funktionsweisen und Anwendungsmöglichkeiten von Künstlicher Intelligenz (KI) in der Medizin. Nach einer kurzen historischen Einordnung von KI im Feld der Informatik erfahren Sie mehr über Daten(-standards) sowie deren Wert für die Entwicklung von KI-Methodik. Anschließend werden mit Maschinellem Lernen und Deep Learning zwei zentrale Teilbereiche der Informatik anhand anschaulicher Beispiele aus dem medizinischen Kontext näher beleuchtet. Der Online-Kurs führt zentrale Begrifflichkeiten und Konzepte ein, die ein grundlegendes Verständnis für die Auseinandersetzung mit dem Thema KI schaffen soll.</span></p>',\n",
       "    'languages': [],\n",
       "    'uniformResourceLocator': 'https://moodle.ki-campus.org/course/view.php?id=78',\n",
       "    'instructors': []}},\n",
       "  {'id': '79',\n",
       "   'type': 'courses',\n",
       "   'attributes': {'name': 'Dr. med. KI - Anwendungen für Ärztinnen und Ärzte',\n",
       "    'abstract': '<p dir=\"ltr\" style=\"text-align: left;\"></p><p>Entwickeln Sie anhand dieses interaktiven Lernangebots ein konzeptuelles Grundverständnis für die Verwendung von KI in verschiedenen medizinischen Anwendungsbereichen. Hierzu berichten Expert:innen aus der klinischen Neurobildgebung, Onkologie, Intensivmedizin und weiteren Feldern über konkrete Szenarien und aktuelle Forschungsprojekte, in denen KI Anwendung findet oder zukünftig eingesetzt werden kann. Verschiedene Aufgabenformate sollen Ihnen dabei helfen, sich das dahingehende Grundlagenwissen in niedrigschwelliger Form anzueignen.</p><br><p></p>',\n",
       "    'languages': [],\n",
       "    'uniformResourceLocator': 'https://moodle.ki-campus.org/course/view.php?id=79',\n",
       "    'instructors': []}},\n",
       "  {'id': '88',\n",
       "   'type': 'courses',\n",
       "   'attributes': {'name': 'Test Course',\n",
       "    'abstract': '<p dir=\"ltr\" style=\"text-align: left;\">Test Course. Ignore.<br></p>',\n",
       "    'languages': [],\n",
       "    'uniformResourceLocator': 'https://moodle.ki-campus.org/course/view.php?id=88',\n",
       "    'instructors': [{'id': '189', 'name': 'Matthias Hartmann'}]}},\n",
       "  {'id': '90',\n",
       "   'type': 'courses',\n",
       "   'attributes': {'name': 'Copy Course',\n",
       "    'abstract': '<p dir=\"ltr\" style=\"text-align: left;\">Copy Course<br></p>',\n",
       "    'languages': [],\n",
       "    'uniformResourceLocator': 'https://moodle.ki-campus.org/course/view.php?id=90',\n",
       "    'instructors': [{'id': '189', 'name': 'Matthias Hartmann'}]}},\n",
       "  {'id': '92',\n",
       "   'type': 'courses',\n",
       "   'attributes': {'name': 'KI und Ziele für nachhaltige Entwicklung (LASUB)',\n",
       "    'abstract': '<p dir=\"ltr\" style=\"text-align: left;\">KI trifft Bildung für nachhaltige Entwicklung. Entdecke in unserem kostenlosen Online-Kurs, wie Künstliche Intelligenz helfen kann, die Welt nachhaltiger zu gestalten. Jetzt reinschnuppern! <br></p>',\n",
       "    'languages': [],\n",
       "    'uniformResourceLocator': 'https://moodle.ki-campus.org/course/view.php?id=92',\n",
       "    'instructors': []}},\n",
       "  {'id': '93',\n",
       "   'type': 'courses',\n",
       "   'attributes': {'name': 'DHBW ',\n",
       "    'abstract': '<p dir=\"ltr\" style=\"text-align: left;\"></p><p></p><br><p></p>',\n",
       "    'languages': ['de'],\n",
       "    'uniformResourceLocator': 'https://moodle.ki-campus.org/course/view.php?id=93',\n",
       "    'instructors': []}},\n",
       "  {'id': '94',\n",
       "   'type': 'courses',\n",
       "   'attributes': {'name': 'Dr. med. KI - Special Edition - WPP Medizin 4.0',\n",
       "    'abstract': '<p dir=\"ltr\" style=\"text-align: left;\"></p><p><span style=\"color: rgb(0, 0, 0); font-size: 0.9375rem;\">Dieses E-Learning-Modul dient zur Vorbereitung auf unser Wahlpflichtprojekt \"Medizin 4.0\". Das Selbststudium ist Teil des Kurses, der als Blended Learning Konzept aufgebaut ist.</span><br></p><p><span style=\"color: rgb(0, 0, 0);\" class=\"\"></span></p><p><span>Hier findest du Antworten auf Fragen wie: Was ist überhaupt KI? Warum sind Daten so wichtig? Wie wird KI eingesetzt, um Krankheiten wie Krebs besser zu diagnostizieren? Auch ethische und rechtliche Fragen kommen nicht zu kurz: Werden in Zukunft alle Ärzt:innen durch Roboter ersetzt? Welche Potentiale oder Risiken entstehen durch KI für das Patientenwohl?</span></p><p>Zudem bekommst du bereits einen ersten Einblick in die<span>&nbsp;aktuelle Forschung am Universitätsspital Basel und dem Department of Biomedical Engineering (DBE).&nbsp;</span></p><br><p></p><p></p>',\n",
       "    'languages': [],\n",
       "    'uniformResourceLocator': 'https://moodle.ki-campus.org/course/view.php?id=94',\n",
       "    'instructors': [{'id': '1127', 'name': 'Jenny Brandt'}]}},\n",
       "  {'id': '95',\n",
       "   'type': 'courses',\n",
       "   'attributes': {'name': 'Launchpad to AI - An Introduction to Applications, Risks, and Opportunities',\n",
       "    'abstract': '<p style=\"text-align: left;\"><span style=\"font-weight: normal; color: rgb(0, 0, 0);\" class=\"\">In 30 years, will robots do all the unpleasant work for us? Or will they subjugate us to become their submissive slaves? The debates on how Artificial Intelligence (AI) will change our lives move between these extremes. There is no doubt that the change will be dramatic. Maybe now is just the right time to start interfering. This basic course on the fundamental questions of AI uses animated elements and engaging reading materials to take you on an illustrated journey through the dimensions and implications of the groundbreaking technologies of Artificial Intelligence. This course will also help to shed light on the difference between representations of AI in the media and the actual capabilities of current AI applications.</span></p>',\n",
       "    'languages': [],\n",
       "    'uniformResourceLocator': 'https://moodle.ki-campus.org/course/view.php?id=95',\n",
       "    'instructors': []}},\n",
       "  {'id': '107',\n",
       "   'type': 'courses',\n",
       "   'attributes': {'name': 'KI-Explorables für die Schule (LASUB)',\n",
       "    'abstract': '<p dir=\"ltr\" style=\"text-align: left;\"></p><p></p>Mit KI auf Schatzsuche: Steige im Online-Kurs spielerisch ins Maschinelle Lernen ein. Dazu erhältst du Materialien für den Unterricht. Jetzt eintauchen!&nbsp;🤿<br><p></p>',\n",
       "    'languages': [],\n",
       "    'uniformResourceLocator': 'https://moodle.ki-campus.org/course/view.php?id=107',\n",
       "    'instructors': []}},\n",
       "  {'id': '121',\n",
       "   'type': 'courses',\n",
       "   'attributes': {'name': 'Teampraktiken für sozialverantwortliche KI-Gestaltung',\n",
       "    'abstract': '<p dir=\"ltr\" style=\"text-align: left;\"></p><p dir=\"ltr\">In der Lerneinheit <strong>\"Teampraktiken für sozialverantwortliche KI-Gestaltung\"</strong> lernen Sie Methoden kennen, die Teams darin unterstützen können, KI-Systeme sozialverantwortlich, gerecht und fair zu gestaltet.</p><p dir=\"ltr\">Die Lerneinheit umfasst<strong> 5&nbsp;</strong><strong>Wissensnuggets</strong>,\\r\\n die neben einer thematischen Einführung jeweils vier unterschiedliche Teampraktiken vorstellen. Die Wissensnuggets bauen nur in geringem Maße aufeinander auf und können somit auch einzeln genutzt werden, um gezielt ausgewählte Methoden kennen zu lernen.</p><br><p></p>',\n",
       "    'languages': [],\n",
       "    'uniformResourceLocator': 'https://moodle.ki-campus.org/course/view.php?id=121',\n",
       "    'instructors': [{'id': '759', 'name': 'Nicole Dierolf'},\n",
       "     {'id': '308', 'name': 'Nicola Marsden'},\n",
       "     {'id': '9679', 'name': 'Annelie Rothe-Wulf'},\n",
       "     {'id': '761', 'name': 'Edda Sellin'}]}},\n",
       "  {'id': '127',\n",
       "   'type': 'courses',\n",
       "   'attributes': {'name': 'AI4Democracy - Grundlagen zu KI in der Demokratie',\n",
       "    'abstract': '<h5><span style=\"font-weight: normal; color: rgb(0, 0, 0);\" class=\"\">In diesem Kurs möchten wir Dir das nötige Wissen und die Werkzeuge an die Hand geben, damit du dich, als&nbsp;informierte Bürgerin und Bürger&nbsp;an den Debatten und Entwicklungen in einer zunehmend von KI geprägten Welt einbringen kannst. Leg los mit deiner Lernreise!</span></h5>',\n",
       "    'languages': [],\n",
       "    'uniformResourceLocator': 'https://moodle.ki-campus.org/course/view.php?id=127',\n",
       "    'instructors': []}},\n",
       "  {'id': '128',\n",
       "   'type': 'courses',\n",
       "   'attributes': {'name': 'Data Literacy für die Grundschule (LASUB)',\n",
       "    'abstract': '<p dir=\"ltr\" style=\"text-align: left;\">Erkunde im Online-Kurs das Thema Daten und erhalte Ideen für die kindgerechte Umsetzung im Grunschulunterricht. Jetzt entdecken! <br></p>',\n",
       "    'languages': ['de'],\n",
       "    'uniformResourceLocator': 'https://moodle.ki-campus.org/course/view.php?id=128',\n",
       "    'instructors': []}},\n",
       "  {'id': '137',\n",
       "   'type': 'courses',\n",
       "   'attributes': {'name': 'AI4Democracy Testing',\n",
       "    'abstract': '',\n",
       "    'languages': [],\n",
       "    'uniformResourceLocator': 'https://moodle.ki-campus.org/course/view.php?id=137',\n",
       "    'instructors': []}},\n",
       "  {'id': '141',\n",
       "   'type': 'courses',\n",
       "   'attributes': {'name': 'Daten- und Algorithmenethik',\n",
       "    'abstract': '<p style=\"text-align: left;\"><span style=\"\"><span class=\"\" style=\"color: rgb(0, 0, 0);\">Einsteigerkurs über Daten- und Algorithmenethik</span><span class=\"\" style=\"font-weight: normal; color: rgb(0, 0, 0);\">&nbsp;- Überblick über Kultur und Ethik - Begriff Daten- und Algorithmenethik - Beispiele ethischer Implikationen - Handlungsempfehlungen für ethisch korrekte Daten und intelligente Algorithmen - Interviews mit Expert*innen und Anwender*innen - spielbasiertes Lernen - neurodivers-freundlich und inklusiv.</span></span></p>',\n",
       "    'languages': [],\n",
       "    'uniformResourceLocator': 'https://moodle.ki-campus.org/course/view.php?id=141',\n",
       "    'instructors': []}},\n",
       "  {'id': '148',\n",
       "   'type': 'courses',\n",
       "   'attributes': {'name': 'Multiplikatoren-Programm für vhs-Akteur:innen',\n",
       "    'abstract': '<p dir=\"ltr\" style=\"text-align: left;\">In diesem Online-Kurs haben Multiplikator:innen des <strong>Multiplikatoren-Programms - Integration des Themas Künstliche Intelligenz in vhs-Kurse </strong>die Möglichkeit, sich im Forum über Konzeptideen auszutauschen und zu teilen. Zusätzlich bietet der Online-Kurs die Option, sich mit KI-Grundlagen tiefer zu beschäftigen und KI-Tools kennenzulernen.&nbsp;</p><p dir=\"ltr\" style=\"text-align: left;\">Für die Durchführung eigener Informationsveranstaltungen und KI-Kurswerkstätten sind Unterlagen im Kurs abgelegt.&nbsp;</p>',\n",
       "    'languages': [],\n",
       "    'uniformResourceLocator': 'https://moodle.ki-campus.org/course/view.php?id=148',\n",
       "    'instructors': []}},\n",
       "  {'id': '153',\n",
       "   'type': 'courses',\n",
       "   'attributes': {'name': 'DHBW: KI-Ethik',\n",
       "    'abstract': '<p dir=\"ltr\" style=\"text-align: left;\"></p><p dir=\"ltr\">Der Kurs <strong>Einführung in die&nbsp;</strong><strong>KI-</strong><strong>Ethik</strong>&nbsp;bietet einen spannenden und kontroversen Einstieg in die Welt der KI.&nbsp;</p><p dir=\"ltr\">Anhand der fünf Module erarbeiten sich die Studierenden umfangreiches und gut verständliches Hintergrundwissen zu Fragen der Ethik, sowie als auch die KI-spezifischen ethischen Herausforderungen wie der Diskriminierung und Bias, dem Datenschutz,&nbsp; der Deep Fakes und Transparenz.&nbsp;</p><p dir=\"ltr\"><strong>Der Kurs ist in fünf Module aufgeteilt:&nbsp;</strong></p><p dir=\"ltr\"></p><ul><li><strong>Einführung in die Ethik</strong></li><li><strong>Bias und Diskriminierung in KI-Modellen</strong></li><li><strong>Dilemma Datenschutz</strong></li><li><strong>Fehlende Transparenz und Verantwortung</strong></li><li><strong>Deep Fakes und Halluzinieren</strong></li></ul><p></p><p dir=\"ltr\">Jedes der fünf Module enthält sowohl Materialien zur Erarbeitung von Basiswissen, als auch weitere Ressourcen zur Vertiefung. Dabei kann individuell entschieden werden, welche Lerneinheiten&nbsp; für die Studierenden freigegeben oder als Pflichtaufgabe markiert werden.&nbsp;&nbsp;</p><p dir=\"ltr\">Im Modul \"Für Lehrende\" empfehlen wir Lerninhalte, die dabei unterstützen können, das im Online-Kurs erworbene Wissen in die Lernveranstaltungen zu integrieren. Dazu stehen unterschiedliche Vertiefungsaufgaben und -Formate zur Verfügung.</p>Wir wünschen viel Erfolg und Freude mit dem Kurs.<br><br>Bei weiteren Fragen stehen wir Ihnen zur Verfügung&nbsp;und freuen uns über Ihre Rückmeldungen.<br>Ihr KI-Team an der DHBW Heilbronn<br>Mail: ki-team@heilbronn.dhbw.de&nbsp; &nbsp; &nbsp; &nbsp;<br><p></p>',\n",
       "    'languages': [],\n",
       "    'uniformResourceLocator': 'https://moodle.ki-campus.org/course/view.php?id=153',\n",
       "    'instructors': [{'id': '12075',\n",
       "      'name': 'MA Qualität d. Lehre Stefanie Bieber'},\n",
       "     {'id': '11610', 'name': 'MA Stefan Braus'},\n",
       "     {'id': '11611', 'name': 'MA Stefan Braus'},\n",
       "     {'id': '11873', 'name': 'MA Britta Lintfert'}]}},\n",
       "  {'id': '160',\n",
       "   'type': 'courses',\n",
       "   'attributes': {'name': 'Dr. med. KI - Ethik und Daten für Ärztinnen und Ärzte',\n",
       "    'abstract': '<p dir=\"ltr\" style=\"text-align: left;\"></p><div><p>Erfahren Sie\\r\\n in diesem interaktiven Lernangebot, welche \\r\\nmedizinethischen Fragen sich aus der Nutzung von KI-Anwendungen und \\r\\n-Technologien in medizinischen Bereichen ergeben und wie sich die \\r\\nVerwendung auf das Verhältnis zwischen Ärzt:innen und Patient:innen \\r\\nauswirkt. Finden Sie heraus, was Aspekte wie Standardisierung und Datenschutz mit ethischen Kontexten zu tun haben und nähern Sie sich dem Spannungsfeld der digitalen Diskriminierung.</p><p>Dies ist der erste Teil einer zweiteiligen Fortbildungslernreise, die das breite Themenfeld ethischer und regulatorischer Aspekte von KI-Anwendungen in der Medizin beleuchtet. <br></p></div><p></p>',\n",
       "    'languages': [],\n",
       "    'uniformResourceLocator': 'https://moodle.ki-campus.org/course/view.php?id=160',\n",
       "    'instructors': []}},\n",
       "  {'id': '161',\n",
       "   'type': 'courses',\n",
       "   'attributes': {'name': 'Dr. med. KI - Ethik und Regulierung für Ärztinnen und Ärzte',\n",
       "    'abstract': '<p dir=\"ltr\" style=\"text-align: left;\"></p><p>Erfahren Sie\\r\\n in diesem interaktiven Lernangebot, welche \\r\\nethischen und regulatorischen Fragen sich aus der Nutzung von KI-Anwendungen und \\r\\n-Technologien in medizinischen Bereichen ergeben und wie sich die \\r\\nVerwendung auf das Verhältnis zwischen Ärzt:innen und Patient:innen \\r\\nauswirkt. Finden Sie im Kurs auch heraus, was Aspekte wie Regulierung, \\r\\nInnovation und erklärbare KI (XAI) mit ethischen Kontexten zu tun haben.</p><p>Dies ist der zweite Teil der Fortbildungslernreise zu ethischen und \\r\\nregulatorischen Aspekten von KI-Anwendungen in der Medizin. Um in diesem Abschnitt die Anwendungsebene weiter vertiefen zu können, wird Vorwissen zu den Inhalten des ersten Teils benötigt. <br></p><p></p>',\n",
       "    'languages': [],\n",
       "    'uniformResourceLocator': 'https://moodle.ki-campus.org/course/view.php?id=161',\n",
       "    'instructors': []}},\n",
       "  {'id': '180',\n",
       "   'type': 'courses',\n",
       "   'attributes': {'name': '(Klon) DHBW: Wissenschaftlich Arbeiten mit KI',\n",
       "    'abstract': '<p>Dieser Kurs bietet einen umfassenden Einstieg in das Thema&nbsp;<strong>Wissenschaftliches\\r\\nArbeiten mit KI</strong>.&nbsp;</p><p>Anhand der einzelnen Module erarbeiten sich die Studierenden umfangreiches und relevantes\\r\\nHintergrundwissen zum Einsatz von KI im wissenschaftlichen Arbeiten und erhalten ein Verständnis von wichtigen Teilaspekten wie dem Datenschutz und rechtlichen Grundlagen aber auch der Chancengleicheit und dem Bias. Darüber hinaus stellt der Kurs auch hilfreiche KI-Tools vor, die&nbsp;den Studien- und\\r\\nArbeitsalltag erleichtern können.&nbsp;</p><p><span style=\"font-size: 0.9375rem;\">Der Kurs gibt somit einen&nbsp;</span><strong style=\"font-size: 0.9375rem;\">umfassenden\\r\\nÜberblick </strong><span style=\"font-size: 0.9375rem;\">über die </span><strong style=\"font-size: 0.9375rem;\">Potenziale und Möglichkeiten, </strong><span style=\"font-size: 0.9375rem;\">aber auch </span><strong style=\"font-size: 0.9375rem;\">Grenzen der\\r\\ngenerativen KI.</strong></p><p><strong style=\"font-size: 0.9375rem;\"></strong></p><p><strong style=\"font-size: 0.9375rem;\">Der Kurs ist in drei Module aufgeteilt:</strong></p><ul type=\"disc\"><li><strong style=\"font-size: 0.9375rem;\">Einstieg Wissenschaftliches Arbeiten mit Künstlicher Intelligenz</strong></li><li><strong style=\"font-size: 0.9375rem;\">Prompt Engineering</strong></li><li><strong style=\"font-size: 0.9375rem;\">Nützliche KI-Tools für das Studium&nbsp;</strong></li></ul><p><span style=\"font-size: 0.9375rem;\">Jedes der drei Module enthält sowohl Materialien zur Erarbeitung von Basiswissen, als auch weitere Ressourcen zur Vertiefung. Dabei kann individuell entschieden werden, welche Lerneinheiten für die Studierenden freigegeben oder als Pflichtaufgabe markiert werden.&nbsp;</span><br></p><p><span style=\"font-size: 0.9375rem;\">Im Modul \"Für Lehrende\" empfehlen wir Lerninhalte, die dabei unterstützen können, das im Online-Kurs erworbene Wissen in den Lehrveranstaltungen zu integrieren. Dazu stehen unterschiedliche Vertiefungsaufgaben und -Formate zur Verfügung.</span></p><p><span style=\"font-size: 0.9375rem;\">Wir wünschen viel Erfolg und Freude mit Kurs.</span><br></p><p><span style=\"font-size: 0.9375rem;\">Bei weiteren Fragen stehen wir Ihnen zur Verfügung und freuen uns über Ihre Rückmeldung.<br></span><span style=\"font-size: 0.9375rem;\">Ihr KI-Team an der DHBW Heilbronn<br></span><span style=\"font-size: 0.9375rem;\">Mail: ki-team@heilbronn.dhbw.de</span></p>',\n",
       "    'languages': [],\n",
       "    'uniformResourceLocator': 'https://moodle.ki-campus.org/course/view.php?id=180',\n",
       "    'instructors': [{'id': '12772',\n",
       "      'name': 'MA Qualität d. Lehre Stefanie Bieber'}]}},\n",
       "  {'id': '185',\n",
       "   'type': 'courses',\n",
       "   'attributes': {'name': 'Schule macht KI (LASUB)',\n",
       "    'abstract': '<p dir=\"ltr\" style=\"text-align: left;\">In unserem Online-Kurs lernst du Grundlagen zu Künstlicher Intelligenz und entwickelst mit Schüler:innen neue Ideen zur Zukunft mit KI. Willkommen!<br></p>',\n",
       "    'languages': ['de'],\n",
       "    'uniformResourceLocator': 'https://moodle.ki-campus.org/course/view.php?id=185',\n",
       "    'instructors': []}},\n",
       "  {'id': '190',\n",
       "   'type': 'courses',\n",
       "   'attributes': {'name': 'Grade Test Course',\n",
       "    'abstract': '<p dir=\"ltr\" style=\"text-align: left;\">Grade Test Course<br></p>',\n",
       "    'languages': [],\n",
       "    'uniformResourceLocator': 'https://moodle.ki-campus.org/course/view.php?id=190',\n",
       "    'instructors': [{'id': '189', 'name': 'Matthias Hartmann'}]}},\n",
       "  {'id': '195',\n",
       "   'type': 'courses',\n",
       "   'attributes': {'name': 'KI-Campus: Wissensaustausch der Zukunft - OER Integration im Hochschul-LMS',\n",
       "    'abstract': '',\n",
       "    'languages': [],\n",
       "    'uniformResourceLocator': 'https://moodle.ki-campus.org/course/view.php?id=195',\n",
       "    'instructors': []}},\n",
       "  {'id': '198',\n",
       "   'type': 'courses',\n",
       "   'attributes': {'name': 'KI-Campus-Ambassador-Programm',\n",
       "    'abstract': '<p>Herzlich willkommen im&nbsp;<span data-usefontface=\"false\" data-contrast=\"none\" xml:lang=\"DE-DE\">Ambassador-Programm des\\r\\nKI-Campus!</span><span data-usefontface=\"false\" data-contrast=\"none\" xml:lang=\"DE-DE\">&nbsp;<br>\\r\\n<br>\\r\\nIn diesem Austausch- und&nbsp;</span><span data-usefontface=\"false\" data-contrast=\"none\" xml:lang=\"DE-DE\">Unterstützungsprogramm stärken wir gemeinsam die Sichtbarkeit\\r\\nund wirksame Nutzung der Lernangebote des&nbsp;</span><span data-usefontface=\"false\" data-contrast=\"none\" xml:lang=\"DE-DE\">KI-Campus.&nbsp;</span>\\u200bAls\\r\\nAmbassadors baut ihr<span data-usefontface=\"false\" data-contrast=\"none\" xml:lang=\"DE-DE\">&nbsp;Lernnetzwerke auf und bringt mit euren Aktivitäten KI als Thema und den KI-Campus\\r\\nals Lernplattform in&nbsp;</span><span data-usefontface=\"false\" data-contrast=\"none\" xml:lang=\"DE-DE\">eure Netzwerke in Wissenschaft,\\r\\nLehre und Praxis ein. Hier im Kurs könnt ihr eure Auszeichnung als KI-Campus-Ambassador sowie euer\\r\\nBadge herunterladen und euch vernetzen.</span></p><p>\\r\\nWir bedanken uns herzlich für euer großartiges Engagement!&nbsp;<br>\\r\\n\\u200b<br>\\r\\n<br>\\r\\n<!--[if !supportLineBreakNewLine]--><br>\\r\\n<!--[endif]--></p>',\n",
       "    'languages': [],\n",
       "    'uniformResourceLocator': 'https://moodle.ki-campus.org/course/view.php?id=198',\n",
       "    'instructors': []}}]}"
      ]
     },
     "execution_count": 24,
     "metadata": {},
     "output_type": "execute_result"
    }
   ],
   "source": [
    "moochup = fetch_data(\"https://moodle.ki-campus.org/local/open_api/courses.php\")\n",
    "moochup"
   ]
  },
  {
   "cell_type": "code",
   "execution_count": 25,
   "metadata": {},
   "outputs": [
    {
     "ename": "NameError",
     "evalue": "name 'moodle' is not defined",
     "output_type": "error",
     "traceback": [
      "\u001b[1;31m---------------------------------------------------------------------------\u001b[0m",
      "\u001b[1;31mNameError\u001b[0m                                 Traceback (most recent call last)",
      "Cell \u001b[1;32mIn[25], line 2\u001b[0m\n\u001b[0;32m      1\u001b[0m \u001b[38;5;66;03m# test if the identical courses are in both sources\u001b[39;00m\n\u001b[1;32m----> 2\u001b[0m moodle_ids \u001b[38;5;241m=\u001b[39m [course\u001b[38;5;241m.\u001b[39mid \u001b[38;5;28;01mfor\u001b[39;00m course \u001b[38;5;129;01min\u001b[39;00m \u001b[43mmoodle\u001b[49m]\n\u001b[0;32m      3\u001b[0m moochup_ids \u001b[38;5;241m=\u001b[39m [\u001b[38;5;28mint\u001b[39m(course\u001b[38;5;241m.\u001b[39mid) \u001b[38;5;28;01mfor\u001b[39;00m course \u001b[38;5;129;01min\u001b[39;00m moochup]\n\u001b[0;32m      4\u001b[0m \u001b[38;5;28mprint\u001b[39m(\u001b[38;5;124mf\u001b[39m\u001b[38;5;124m\"\u001b[39m\u001b[38;5;124mNumber of courses in moodle but not in moochup: \u001b[39m\u001b[38;5;132;01m{\u001b[39;00m\u001b[38;5;28mlen\u001b[39m(\u001b[38;5;28mset\u001b[39m(moodle_ids)\u001b[38;5;250m \u001b[39m\u001b[38;5;241m-\u001b[39m\u001b[38;5;250m \u001b[39m\u001b[38;5;28mset\u001b[39m(moochup_ids))\u001b[38;5;132;01m}\u001b[39;00m\u001b[38;5;124m\"\u001b[39m)\n",
      "\u001b[1;31mNameError\u001b[0m: name 'moodle' is not defined"
     ]
    }
   ],
   "source": [
    "# test if the identical courses are in both sources\n",
    "moodle_ids = [course.id for course in moodle]\n",
    "moochup_ids = [int(course.id) for course in moochup]\n",
    "print(f\"Number of courses in moodle but not in moochup: {len(set(moodle_ids) - set(moochup_ids))}\")\n",
    "print(f\"Number of courses in moochup but not in moodle: {len(set(moochup_ids) - set(moodle_ids))}\")"
   ]
  },
  {
   "cell_type": "code",
   "execution_count": 26,
   "metadata": {},
   "outputs": [
    {
     "ename": "NameError",
     "evalue": "name 'moodle' is not defined",
     "output_type": "error",
     "traceback": [
      "\u001b[1;31m---------------------------------------------------------------------------\u001b[0m",
      "\u001b[1;31mNameError\u001b[0m                                 Traceback (most recent call last)",
      "Cell \u001b[1;32mIn[26], line 2\u001b[0m\n\u001b[0;32m      1\u001b[0m \u001b[38;5;66;03m# test if names are identical\u001b[39;00m\n\u001b[1;32m----> 2\u001b[0m joined_courses \u001b[38;5;241m=\u001b[39m [(moodle_course, moochup_course) \u001b[38;5;28;01mfor\u001b[39;00m moodle_course \u001b[38;5;129;01min\u001b[39;00m \u001b[43mmoodle\u001b[49m \u001b[38;5;28;01mfor\u001b[39;00m moochup_course \u001b[38;5;129;01min\u001b[39;00m moochup \u001b[38;5;28;01mif\u001b[39;00m moodle_course\u001b[38;5;241m.\u001b[39mid \u001b[38;5;241m==\u001b[39m \u001b[38;5;28mint\u001b[39m(moochup_course\u001b[38;5;241m.\u001b[39mid)]\n\u001b[0;32m      3\u001b[0m \u001b[38;5;28;01mfor\u001b[39;00m course \u001b[38;5;129;01min\u001b[39;00m joined_courses:\n\u001b[0;32m      4\u001b[0m     \u001b[38;5;28mprint\u001b[39m(\u001b[38;5;124mf\u001b[39m\u001b[38;5;124m\"\u001b[39m\u001b[38;5;132;01m{\u001b[39;00mcourse[\u001b[38;5;241m0\u001b[39m]\u001b[38;5;241m.\u001b[39mshortname\u001b[38;5;132;01m}\u001b[39;00m\u001b[38;5;124m - \u001b[39m\u001b[38;5;132;01m{\u001b[39;00mcourse[\u001b[38;5;241m0\u001b[39m]\u001b[38;5;241m.\u001b[39mfullname\u001b[38;5;132;01m}\u001b[39;00m\u001b[38;5;124m - \u001b[39m\u001b[38;5;132;01m{\u001b[39;00mcourse[\u001b[38;5;241m1\u001b[39m]\u001b[38;5;241m.\u001b[39mattributes\u001b[38;5;241m.\u001b[39mname\u001b[38;5;132;01m}\u001b[39;00m\u001b[38;5;124m\"\u001b[39m)\n",
      "\u001b[1;31mNameError\u001b[0m: name 'moodle' is not defined"
     ]
    }
   ],
   "source": [
    "# test if names are identical\n",
    "joined_courses = [(moodle_course, moochup_course) for moodle_course in moodle for moochup_course in moochup if moodle_course.id == int(moochup_course.id)]\n",
    "for course in joined_courses:\n",
    "    print(f\"{course[0].shortname} - {course[0].fullname} - {course[1].attributes.name}\")"
   ]
  },
  {
   "cell_type": "code",
   "execution_count": 27,
   "metadata": {},
   "outputs": [
    {
     "ename": "NameError",
     "evalue": "name 'joined_courses' is not defined",
     "output_type": "error",
     "traceback": [
      "\u001b[1;31m---------------------------------------------------------------------------\u001b[0m",
      "\u001b[1;31mNameError\u001b[0m                                 Traceback (most recent call last)",
      "Cell \u001b[1;32mIn[27], line 2\u001b[0m\n\u001b[0;32m      1\u001b[0m \u001b[38;5;66;03m# test if content is identical\u001b[39;00m\n\u001b[1;32m----> 2\u001b[0m \u001b[38;5;28;01mfor\u001b[39;00m course \u001b[38;5;129;01min\u001b[39;00m \u001b[43mjoined_courses\u001b[49m:\n\u001b[0;32m      3\u001b[0m     \u001b[38;5;28mprint\u001b[39m(course[\u001b[38;5;241m0\u001b[39m]\u001b[38;5;241m.\u001b[39msummary \u001b[38;5;241m==\u001b[39m course[\u001b[38;5;241m1\u001b[39m]\u001b[38;5;241m.\u001b[39mattributes\u001b[38;5;241m.\u001b[39mabstract)\n\u001b[0;32m      4\u001b[0m     \u001b[38;5;28;01mif\u001b[39;00m \u001b[38;5;129;01mnot\u001b[39;00m course[\u001b[38;5;241m0\u001b[39m]\u001b[38;5;241m.\u001b[39msummary \u001b[38;5;241m==\u001b[39m course[\u001b[38;5;241m1\u001b[39m]\u001b[38;5;241m.\u001b[39mattributes\u001b[38;5;241m.\u001b[39mabstract:\n",
      "\u001b[1;31mNameError\u001b[0m: name 'joined_courses' is not defined"
     ]
    }
   ],
   "source": [
    "# test if content is identical\n",
    "for course in joined_courses:\n",
    "    print(course[0].summary == course[1].attributes.abstract)\n",
    "    if not course[0].summary == course[1].attributes.abstract:\n",
    "        print(f\"{course[0].summary} - {course[1].attributes.abstract}\")\n",
    "        print(\"-\"*100)\n",
    "    "
   ]
  }
 ],
 "metadata": {
  "kernelspec": {
   "display_name": ".venv",
   "language": "python",
   "name": "python3"
  },
  "language_info": {
   "codemirror_mode": {
    "name": "ipython",
    "version": 3
   },
   "file_extension": ".py",
   "mimetype": "text/x-python",
   "name": "python",
   "nbconvert_exporter": "python",
   "pygments_lexer": "ipython3",
   "version": "3.11.9"
  }
 },
 "nbformat": 4,
 "nbformat_minor": 2
}
