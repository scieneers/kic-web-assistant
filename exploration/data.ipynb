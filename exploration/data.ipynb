{
 "cells": [
  {
   "cell_type": "markdown",
   "metadata": {},
   "source": [
    "# Formats and Meta\n",
    "\n",
    "## Moochup Course Example:  \n",
    "```\n",
    "{\n",
    "    \"id\": \"0cf46a4b-9022-4cd5-9815-92312b3a84dc\",\n",
    "    \"type\": \"courses\",\n",
    "    \"attributes\": {\n",
    "        \"name\": \"KI und Ethik II\",\n",
    "        \"courseCode\": \"KI_Ethik_II\",\n",
    "        \"courseMode\": \"MOOC\",\n",
    "        \"abstract\": \"\\Die Entwicklung Künstlicher Intelligenz erfolgt eingebettet in den größeren Kontext einer \\u003cstrong\\u003edigitalen Transformation\\u003c/strong\\u003e. Wie wirkt sich [...]\",\n",
    "        \"languages\": [\n",
    "            \"de\"\n",
    "        ],\n",
    "        \"startDate\": \"2021-10-18T17:10:00Z\",\n",
    "        \"endDate\": null,\n",
    "        \"availableUntil\": null,\n",
    "        \"image\": {\n",
    "            \"url\": \"https://kicampus-public.s3.openhpicloud.de/courses/orBzqgERBJsLyvTtwv0Oo/visual_v1.png\",\n",
    "            \"licenses\": [\n",
    "                {\n",
    "                    \"id\": \"CC0-1.0\",\n",
    "                    \"url\": \"https://creativecommons.org/publicdomain/zero/1.0\",\n",
    "                    \"name\": \"Creative Commons Zero v1.0 Universal\",\n",
    "                    \"author\": null\n",
    "                }\n",
    "            ]\n",
    "        },\n",
    "        \"video\": null,\n",
    "        \"instructors\": [],\n",
    "        \"learningObjectives\": [],\n",
    "        \"duration\": null,\n",
    "        \"workload\": null,\n",
    "        \"partnerInstitute\": [],\n",
    "        \"moocProvider\": {\n",
    "            \"name\": \"KI-Campus\",\n",
    "            \"url\": \"https://learn.ki-campus.org/\",\n",
    "            \"logo\": \"https://imgproxy.services.openhpi.de/AcQdY-UlLcD3gY7NcMYcFeVk4-kbZWFH0r31JuyXdI4/fit/0/0/ce/false/aHR0cHM6Ly9sZWFy/bi5raS1jYW1wdXMu/b3JnL2Fzc2V0cy9s/b2dvLTQ3NTE5NjQz/NGEwNjlhNjY1M2Y4/ZDI0MmI2YTU5NDE2/MmEyYTU3MzkxZDky/ZjlkMTFlN2Y0NmMw/M2EyOWU3NWQucG5n.png\"\n",
    "        },\n",
    "        \"courseLicenses\": [\n",
    "            {\n",
    "                \"id\": \"CC-BY-SA-4.0\",\n",
    "                \"url\": \"https://creativecommons.org/licenses/by-sa/4.0\",\n",
    "                \"name\": \"Creative Commons Attribution Share Alike 4.0 International\",\n",
    "                \"author\": \"KI-Campus\"\n",
    "            }\n",
    "        ],\n",
    "        \"access\": [\n",
    "            \"free\"\n",
    "        ],\n",
    "        \"url\": \"https://ki-campus.org/courses/KI_Ethik_II\"\n",
    "    }\n",
    "},\n",
    "```\n",
    "\n",
    "\n",
    "## Zammad responses dump (FAQ_Dump.xlsx):\n",
    "Intent - Antwortvorlagen, manchmal abhängig von Eingabeparametern oder Status eines Kurses:\n",
    "\"wenn B. noch kein Teilnahmebestätigung/Leistungsnachweis (TNB/LN) freigeschaltet: KAM fragen, ob Leistungsnachweis für einen bestimmten Kurs angeboten werden soll/wird  \"\n",
    "\n",
    "Manchmal Prozess definiert unter \"Vorgehensweise\"\n",
    "\n",
    "\n",
    "### Datenbeispiel:\n",
    "\n",
    "Intent: Kosten\n",
    "\n",
    "Antowortbaustein: \n",
    "\n",
    "Liebe/r..,\n",
    "vielen Dank für Ihre Nachricht - wir freuen uns über Ihr Interesse am KI-Campus!\n",
    "\n",
    "Kein Sorge, alle Lernangebote auf dem KI-Campus können kostenfrei besucht werden.\n",
    "Sie haben die Wahl zwischen KI-Campus-Originalen, Partner-Lernangeboten oder externem Material, das von uns sorgsam kuratiert wurde.\n",
    "Ob es sich bei einem Lernangebot um ein KI-Campus-Original oder ein Partner- oder externes Angebot handelt, erkennen sie an dem auberginefarbenem Button links oben auf dem Kursbild. Im Anhang können Sie passende Beispiele finden.\n",
    "\n",
    "Wenn sie zusätzlich zum Besuch eines Kurses auch eine Bescheinigung oder ein Zertifikat erlangen wollen, können bei externen Angeboten Kosten entstehen.\n",
    "Für KI-Campus-Originale gilt das nicht!  Bei uns  sind auch die Teilnahmebestätigungen und Leistungsnachweise kostenlos.\n",
    "\n",
    "Ich hoffe, ich konnte Ihnen ein wenig weiterhelfen und Sie ermutigen, einfach in unseren Kursen zu stöbern!\n"
   ]
  },
  {
   "cell_type": "markdown",
   "metadata": {},
   "source": [
    "## Umsetzung als Assistent:\n",
    "\n",
    "Textbausteine aus Zammad (1) umschreiben oder (2) prompting dass das LLM diesen Textbaustein zu beantwortung nutzen soll\n",
    "\n",
    "Bei klaren prozessen evtl. Rasa erweitern und die nötigen API-Calls absetzen. Eher ausbaustufe. Sonsten als Agent? \n",
    "\n",
    "Wie kann ein LLM Auskunft geben über die Metainformationen? \"Z.b. wie viele Kurse habt ihr?\""
   ]
  },
  {
   "cell_type": "code",
   "execution_count": 12,
   "metadata": {},
   "outputs": [],
   "source": [
    "import requests\n",
    "\n",
    "API_URL = 'https://learn.ki-campus.org/bridges/moochub/courses'\n",
    "\n",
    "course_info = []\n",
    "\n",
    "def fetch_data(url) -> dict:\n",
    "    response = requests.get(url, headers={'Accept': 'application/vnd.api+json; moochub-version=2.1, application/problem+json'})\n",
    "    response.raise_for_status()\n",
    "    return response.json() \n",
    "\n",
    "course_info_page = fetch_data(API_URL)\n",
    "course_info.extend(course_info_page['data'])\n",
    "while 'next' in course_info_page['links']:\n",
    "    course_info_page = fetch_data(course_info_page['links']['next'])\n",
    "    course_info.extend(course_info_page['data'])\n"
   ]
  },
  {
   "cell_type": "code",
   "execution_count": 24,
   "metadata": {},
   "outputs": [
    {
     "name": "stdout",
     "output_type": "stream",
     "text": [
      "Number of courses 69\n",
      "Unique IDs retrieved: True\n",
      "First course:\n",
      "{'id': 'd31c3f75-d4c3-45af-a9b7-b3ff62fbc1e7', 'type': 'courses', 'attributes': {'name': 'Von der Datenanalyse zur Datengeschichte – Datenanalyseergebnisse adressatengerecht kommunizieren', 'courseCode': 'Datenanalyse-unibi2021', 'courseMode': 'MOOC', 'abstract': '<p>Gesellschaftliche Debatten zu Corona-Pandemie und Klimawandel verdeutlichen, wie wichtig die adressatengerechte und zielgruppenspezifische Kommunikation von Datenanalyseergebnissen für die breite Öffentlichkeit und politische Entscheidungsträger*innen ist. Ziel des Kurses ist es, Data Storytelling sowohl auf theoretischer als auch auf praktischer Ebene zu vermitteln.</p>\\n', 'description': '<p>Gesellschaftliche Debatten zu Corona-Pandemie und Klimawandel verdeutlichen, wie wichtig die adressatengerechte und zielgruppenspezifische Kommunikation von Datenanalyseergebnissen für die breite Öffentlichkeit und politische Entscheidungsträger*innen ist. Ziel des Kurses ist es, Data Storytelling sowohl auf theoretischer als auch auf praktischer Ebene zu vermitteln.</p>\\n', 'languages': ['de'], 'startDate': '2021-08-21T00:00:00Z', 'endDate': None, 'availableUntil': None, 'image': {'url': 'https://kicampus-public.s3.openhpicloud.de/courses/6qmhZYChy2ondx1rqzs1vh/7a7kyG8dWqkyHfKSoqL40Z/datengeschichten_unibi_logo_klein_0.jpg', 'licenses': [{'id': 'CC0-1.0', 'url': 'https://creativecommons.org/publicdomain/zero/1.0', 'name': 'Creative Commons Zero v1.0 Universal', 'author': None}]}, 'video': {'url': 'https://player.vimeo.com/progressive_redirect/playback/700837671/rendition/1080p/file.mp4?loc=external&oauth2_token_id=1354883044&signature=16664aa21b741042d2800574b0a06b4d9fcdf82865dbce085ad31c1732539a61', 'licenses': [{'id': 'Proprietary', 'url': None, 'name': 'Proprietary License', 'author': None}]}, 'instructors': [{'name': 'Dr. Katharina Weiß'}, {'name': 'Marko Wenzel M.A.'}], 'learningObjectives': [], 'duration': None, 'workload': None, 'partnerInstitute': [], 'moocProvider': {'name': 'KI-Campus', 'url': 'https://learn.ki-campus.org/', 'logo': 'https://imgproxy.services.openhpi.de/AcQdY-UlLcD3gY7NcMYcFeVk4-kbZWFH0r31JuyXdI4/fit/0/0/ce/false/aHR0cHM6Ly9sZWFy/bi5raS1jYW1wdXMu/b3JnL2Fzc2V0cy9s/b2dvLTQ3NTE5NjQz/NGEwNjlhNjY1M2Y4/ZDI0MmI2YTU5NDE2/MmEyYTU3MzkxZDky/ZjlkMTFlN2Y0NmMw/M2EyOWU3NWQucG5n.png'}, 'courseLicenses': [{'id': 'CC-BY-SA-4.0', 'url': 'https://creativecommons.org/licenses/by-sa/4.0', 'name': 'Creative Commons Attribution Share Alike 4.0 International', 'author': 'Dr. Katharina Weiß, Marko Wenzel M.A.'}], 'access': ['free'], 'url': 'https://ki-campus.org/courses/Datenanalyse-unibi2021'}}\n"
     ]
    }
   ],
   "source": [
    "print(f\"Number of courses {len(course_info)}\")\n",
    "# check if cours id are unique\n",
    "course_ids = [course['id'] for course in course_info]\n",
    "print(f\"Unique IDs retrieved: {len(course_ids) == len(set(course_ids))}\")\n",
    "\n",
    "print(\"First course:\")\n",
    "print(course_info[0])"
   ]
  },
  {
   "cell_type": "code",
   "execution_count": 27,
   "metadata": {},
   "outputs": [
    {
     "name": "stdout",
     "output_type": "stream",
     "text": [
      "descriptions are html formatted:\n",
      "<p>Gesellschaftliche Debatten zu Corona-Pandemie und Klimawandel verdeutlichen, wie wichtig die adressatengerechte und zielgruppenspezifische Kommunikation von Datenanalyseergebnissen für die breite Öffentlichkeit und politische Entscheidungsträger*innen ist. Ziel des Kurses ist es, Data Storytelling sowohl auf theoretischer als auch auf praktischer Ebene zu vermitteln.</p>\n",
      "\n",
      "Min description length: 45\n",
      "Max description length: 1866\n",
      "Average description length: 589.304347826087\n",
      "Number of abstracts equal to descriptions: 69 of 69\n",
      "Min name length: 14\n",
      "Max name length: 115\n",
      "Average name length: 47.89855072463768\n"
     ]
    }
   ],
   "source": [
    "descriptions = [course[\"attributes\"][\"description\"] for course in course_info]\n",
    "print(\"descriptions are html formatted:\")\n",
    "print(descriptions[0])\n",
    "print(f\"Min description length: {min(map(len, descriptions))}\")\n",
    "print(f\"Max description length: {max(map(len, descriptions))}\")\n",
    "print(f\"Average description length: {sum(map(len, descriptions)) / len(descriptions)}\")\n",
    "\n",
    "abstracts = [course[\"attributes\"][\"abstract\"] for course in course_info]\n",
    "abstracts_equal_descriptions = [abstract == description for abstract, description in zip(abstracts, descriptions)]\n",
    "print(f\"Number of abstracts equal to descriptions: {sum(abstracts_equal_descriptions)} of {len(abstracts)}\")\n",
    "\n",
    "names = [course[\"attributes\"][\"name\"] for course in course_info]\n",
    "print(f\"Min name length: {min(map(len, names))}\")\n",
    "print(f\"Max name length: {max(map(len, names))}\")\n",
    "print(f\"Average name length: {sum(map(len, names)) / len(names)}\")"
   ]
  },
  {
   "cell_type": "code",
   "execution_count": null,
   "metadata": {},
   "outputs": [],
   "source": []
  }
 ],
 "metadata": {
  "kernelspec": {
   "display_name": ".venv",
   "language": "python",
   "name": "python3"
  },
  "language_info": {
   "codemirror_mode": {
    "name": "ipython",
    "version": 3
   },
   "file_extension": ".py",
   "mimetype": "text/x-python",
   "name": "python",
   "nbconvert_exporter": "python",
   "pygments_lexer": "ipython3",
   "version": "3.11.5"
  }
 },
 "nbformat": 4,
 "nbformat_minor": 2
}
