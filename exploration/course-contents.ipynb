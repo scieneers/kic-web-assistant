{
 "cells": [
  {
   "cell_type": "markdown",
   "metadata": {},
   "source": [
    "## Types of content:\n",
    "\n",
    "Generell:\n",
    "- Any file may be linked and downloaded. \n",
    "- There are two formats for the user, e.g. [this one](https://moodle.ki-campus.org/course/view.php?id=35) and [this one](https://moodle.ki-campus.org/course/view.php?id=50), but content types seem to be the same.\n",
    "- Images can contain useful information or [are just for style](https://moodle.ki-campus.org/course/view.php?id=35) \n",
    "\n",
    "Content Types:\n",
    "- \"Video Time\" \n",
    "    - optional Text field + embedded Video\n",
    "    - YouTube - automatic generated Subtitles [example](https://moodle.ki-campus.org/mod/videotime/view.php?id=543)\n",
    "    - Vimeo - automatic generated Subtitles [example](https://moodle.ki-campus.org/mod/videotime/view.php?id=3763)\n",
    "\n",
    "- \"Page\" or \"Textseite\"\n",
    "    - Plain Text [example](https://moodle.ki-campus.org/course/view.php?id=6&section=1) + Images [example](https://moodle.ki-campus.org/course/view.php?id=58)\n",
    "\n",
    "- \"Book\"\n",
    "    - [example](https://moodle.ki-campus.org/mod/book/view.php?id=4677&chapterid=133)\n",
    "    - like \"Page\" but with multiple sub-pages\n",
    "\n",
    "- \"Forum\"\n",
    "    - For announcements and discussions?\n",
    "    - Skip?\n",
    "\n",
    "- \"Questionnaire\"\n",
    "    - \"Start-of-course Questionnaire\" Looks redundant\n",
    "    - html form\n",
    "\n",
    "- \"Quiz\" / \"Test\"\n",
    "    - different format from \"Questionnaire\", one page per question\n",
    "    - [example](https://moodle.ki-campus.org/mod/quiz/attempt.php)\n",
    "\n",
    "- \"HP5\"\n",
    "    - Mostly interactive content, not structured\n",
    "    - May contain regular text/images in front [example](https://moodle.ki-campus.org/mod/h5pactivity/view.php?id=612)\n",
    "    - May contain self hosted video embeddings\n",
    "        - also auto generated subtitles\n",
    "        - Links to other files to download (pdf slides) may also be included.\n",
    "        - Can contain questionnaire in video embedded ([example](https://moodle.ki-campus.org/mod/h5pactivity/view.php?id=3489)) (vimeo, but differently embedded)\n",
    "        - [example](https://moodle.ki-campus.org/mod/h5pactivity/view.php?id=2195)\n",
    "    - gap texts [example](https://moodle.ki-campus.org/mod/h5pactivity/view.php?id=5713)\n",
    "        - Solution must be somewhere; then it is just text.\n",
    "    - gamification [example](https://moodle.ki-campus.org/mod/h5pactivity/view.php?id=1517) \n",
    "    - timelines [example](https://moodle.ki-campus.org/mod/h5pactivity/view.php?id=1518)\n",
    "    - very custom games [exmple](https://moodle.ki-campus.org/mod/h5pactivity/view.php?id=1520)\n",
    "    - Image / preview from the interactive content described by an AI - e.g. Multimodal model?\n",
    "    - quizzes [example](https://moodle.ki-campus.org/mod/h5pactivity/view.php?id=5325)\n",
    "\n",
    "- \"External tool\"\n",
    "    - Contains description \n",
    "    - Forewards to Jupyterlab instance ([example](https://moodle.ki-campus.org/mod/lti/view.php?id=4206))\n",
    "\n",
    "- \"Teilnahmebestätigung\"\n",
    "    - Not needed\n",
    "\n",
    "- \"PDF\"\n",
    "    - the file"
   ]
  },
  {
   "cell_type": "markdown",
   "metadata": {},
   "source": [
    "## core_course_get_contents\n",
    "- contains high level module contents and the content as downloadable html. \n",
    "- Interestingly there is hp5 content for a page type but nothing to download for actual hp5 modules\n",
    "\n",
    "## core_block_get_course_blocks\n",
    "- None in courseid 16\n",
    "\n",
    "## core_course_get_course_content_items \n",
    "- List of enabled module content types, e.g. \"pages, h5p\". \n",
    "\n",
    "## core_course_get_course_module \n",
    "- Content block in a module. E.g. \"Umfrage zu Kursbeginn\" in \"Modul 1 - Einführung in die KI\"\n",
    "- Only information about metadata and name\n",
    "\n",
    "## core_course_get_module \n",
    "- Placeholder html 5, less info than core_course_get_contents"
   ]
  },
  {
   "cell_type": "code",
   "execution_count": null,
   "metadata": {},
   "outputs": [],
   "source": [
    "from src.loaders.moochup import fetch_data\n",
    "from src.loaders.moodle import Moodle\n",
    "import json\n",
    "\n",
    "def save_api_results(content: dict, filename: str) -> None:\n",
    "    with open(f'exploration/data/api-examples/{filename}.json', 'w') as f:\n",
    "        json.dump(content, f, indent=4, ensure_ascii=False)\n",
    "\n",
    "moodle = Moodle(environment=\"STAGING\")\n",
    "# https://ki-campus-test.fernuni-hagen.de/course/view.php?id=16\n",
    "# print(f'&token={moodle.token}')"
   ]
  },
  {
   "cell_type": "code",
   "execution_count": null,
   "metadata": {},
   "outputs": [],
   "source": [
    "get_contents = moodle.api_call('core_course_get_contents', courseid=\"16\")\n",
    "save_api_results(get_contents, \"core_course_get_contents\")"
   ]
  },
  {
   "cell_type": "code",
   "execution_count": null,
   "metadata": {},
   "outputs": [],
   "source": [
    "get_contents = moodle.api_call('core_block_get_course_blocks', courseid=\"16\")\n",
    "save_api_results(get_contents, \"core_block_get_course_blocks\")"
   ]
  },
  {
   "cell_type": "code",
   "execution_count": null,
   "metadata": {},
   "outputs": [],
   "source": [
    "get_contents = moodle.api_call('core_course_get_course_content_items', courseid=\"16\")\n",
    "save_api_results(get_contents, \"core_course_get_course_content_items\")"
   ]
  },
  {
   "cell_type": "code",
   "execution_count": null,
   "metadata": {},
   "outputs": [],
   "source": [
    "get_contents = moodle.api_call('core_course_get_course_module', cmid=162)\n",
    "save_api_results(get_contents, \"core_course_get_course_module\")"
   ]
  },
  {
   "cell_type": "code",
   "execution_count": null,
   "metadata": {},
   "outputs": [],
   "source": [
    "get_contents = moodle.api_call('core_course_get_module', id=162)\n",
    "with open(f'exploration/api-data/core_course_get_module.html', 'w') as f:\n",
    "    f.write(get_contents)"
   ]
  },
  {
   "cell_type": "code",
   "execution_count": null,
   "metadata": {},
   "outputs": [],
   "source": []
  }
 ],
 "metadata": {
  "kernelspec": {
   "display_name": ".venv",
   "language": "python",
   "name": "python3"
  },
  "language_info": {
   "codemirror_mode": {
    "name": "ipython",
    "version": 3
   },
   "file_extension": ".py",
   "mimetype": "text/x-python",
   "name": "python",
   "nbconvert_exporter": "python",
   "pygments_lexer": "ipython3",
   "version": "3.11.5"
  }
 },
 "nbformat": 4,
 "nbformat_minor": 2
}
