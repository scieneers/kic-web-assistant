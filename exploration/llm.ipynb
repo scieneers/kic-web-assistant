{
 "cells": [
  {
   "cell_type": "markdown",
   "metadata": {},
   "source": [
    "# Leaderboards\n",
    "https://huggingface.co/spaces/HuggingFaceH4/open_llm_leaderboard\n",
    "https://llm-leaderboard.streamlit.app/\n",
    "https://opening-up-chatgpt.github.io/\n",
    "https://www.linkedin.com/search/results/content/?keywords=rag%20zephyr&searchId=63f84b12-44fc-403e-971b-7b0f14c12dc6&sid=aP%40&update=urn%3Ali%3Afs_updateV2%3A(urn%3Ali%3Aactivity%3A7132380266773250049%2CBLENDED_SEARCH_FEED%2CEMPTY%2CDEFAULT%2Cfalse)\n",
    "\n",
    "## Llama2 \n",
    "https://huggingface.co/meta-llama/Llama-2-7b-chat-hf\n",
    "\n",
    "### Not really open source:\n",
    "Can't be used to train other models: \n",
    "“v. You will not use the Llama Materials or any output or results of the Llama Materials to improve any other large language model (excluding Llama 2 or derivative works thereof).”\\\n",
    "Commercial restrictions:\\\n",
    "“2. Additional Commercial Terms. If, on the Llama 2 version release date, the monthly active users of the products or services made available by or for Licensee, or Licensee’s affiliates, is greater than 700 million monthly active users in the preceding calendar month, you must request a license from Meta,“\n",
    "Not approved by the [Open Source Initiative](\"https://opensource.org/licenses/\")\n",
    "\n",
    "### BUT: \n",
    "huggingface leaderboard is dominated by llama 2 models\n",
    "Open Technology to some degree\n",
    "\n",
    "## Inactive/Discontinued LLMs: \n",
    "Open Assistant\n",
    "BlOOMChat\n",
    "Pythia-Chat_base\n",
    "\n",
    "## Mistral 7B\n",
    "Nach eigener Aussage: \"No, it is free to use but not open source. The datasets and weights are proprietary.\"\n",
    "*Aber* Apache 2.0 license -> Mehr Open Source \n",
    "Zephyr finetuned und bessere Performance, aber auch als Mistral-7B-Instruct?; https://huggingface.co/HuggingFaceH4/zephyr-7b-beta\n",
    "Kein Multilinguales Model. Ein Hugginface User finetuned german modelle; https://huggingface.co/flozi00\n",
    "Ansonsten translation?\n",
    "\n",
    "## Conclustions\n",
    "We will be swapping models more regularly with open source\n"
   ]
  },
  {
   "cell_type": "markdown",
   "metadata": {},
   "source": [
    "# Using open source LLMs\n",
    "## Local deplyment:"
   ]
  },
  {
   "cell_type": "code",
   "execution_count": 1,
   "metadata": {},
   "outputs": [],
   "source": [
    "import torch\n",
    "from transformers import pipeline\n",
    "from transformers import AutoModelForCausalLM, AutoTokenizer\n",
    "import torch.nn.functional as F\n",
    "from torch import Tensor\n",
    "from transformers import AutoTokenizer, AutoModel\n",
    "\n",
    "if not torch.backends.mps.is_available():\n",
    "    if not torch.backends.mps.is_built():\n",
    "        print(\"MPS not available because the current PyTorch install was not built with MPS enabled.\")\n",
    "    else:\n",
    "        print(\"MPS not available because the current MacOS version is not 12.3+ and/or you do not have an MPS-enabled device on this machine.\")"
   ]
  },
  {
   "cell_type": "code",
   "execution_count": null,
   "metadata": {},
   "outputs": [],
   "source": [
    "# zephyr\n",
    "pipe = pipeline(\"text-generation\", model=\"HuggingFaceH4/zephyr-7b-beta\", torch_dtype=torch.float32, device_map=\"auto\") \n",
    "# torch_dtype=torch.bfloat16; BFloat16 is not supported on MPS\n",
    "\n",
    "# We use the tokenizer's chat template to format each message - see https://huggingface.co/docs/transformers/main/en/chat_templating\n",
    "messages = [\n",
    "    {\n",
    "        \"role\": \"system\",\n",
    "        \"content\": \"You are a friendly chatbot who always responds in the style of a pirate\",\n",
    "    },\n",
    "    {\"role\": \"user\", \"content\": \"How many helicopters can a human eat in one sitting?\"},\n",
    "]\n",
    "# Error: still using torch.bfloat16\n",
    "prompt = pipe.tokenizer.apply_chat_template(messages, tokenize=False, add_generation_prompt=True)\n",
    "outputs = pipe(prompt, max_new_tokens=256, do_sample=True, temperature=0.7, top_k=50, top_p=0.95)\n",
    "print(outputs[0][\"generated_text\"])"
   ]
  },
  {
   "cell_type": "code",
   "execution_count": null,
   "metadata": {},
   "outputs": [],
   "source": [
    "\n",
    "# Mistral\n",
    "device = \"mps\"\n",
    "\n",
    "model = AutoModelForCausalLM.from_pretrained(\"mistralai/Mistral-7B-Instruct-v0.1\")\n",
    "tokenizer = AutoTokenizer.from_pretrained(\"mistralai/Mistral-7B-Instruct-v0.1\")\n",
    "\n",
    "messages = [\n",
    "    {\"role\": \"user\", \"content\": \"What is your favourite condiment?\"},\n",
    "    {\"role\": \"assistant\", \"content\": \"Well, I'm quite partial to a good squeeze of fresh lemon juice. It adds just the right amount of zesty flavour to whatever I'm cooking up in the kitchen!\"},\n",
    "    {\"role\": \"user\", \"content\": \"Do you have mayonnaise recipes?\"}\n",
    "]\n",
    "\n",
    "encodeds = tokenizer.apply_chat_template(messages, return_tensors=\"pt\")\n",
    "\n",
    "model_inputs = encodeds.to(device)\n",
    "model.to(device)\n",
    "\n",
    "generated_ids = model.generate(encodeds, max_new_tokens=1000, do_sample=True)\n",
    "decoded = tokenizer.batch_decode(generated_ids)\n",
    "print(decoded[0])\n",
    "\n",
    "# Out of memory error\n",
    "# There are some https://huggingface.co/TheBloke/Mistral-7B-Instruct-v0.1-GGUF\n",
    "# and https://huggingface.co/TheBloke/Mistral-7B-v0.1-GGUF\n",
    "# models that are quantized and use less memory, but use GGUF and llama.cpp, but does that support mps?"
   ]
  },
  {
   "cell_type": "markdown",
   "metadata": {},
   "source": [
    "## Using huggingface free API"
   ]
  },
  {
   "cell_type": "code",
   "execution_count": 8,
   "metadata": {},
   "outputs": [
    {
     "data": {
      "text/plain": [
       "[{'generated_text': 'Tell me a joke about a guy who invented a knife that can cut four loaves of bread at once.\\n\\n'}]"
      ]
     },
     "execution_count": 8,
     "metadata": {},
     "output_type": "execute_result"
    }
   ],
   "source": [
    "import requests\n",
    "\n",
    "API_URL = \"https://api-inference.huggingface.co/models/mistralai/Mistral-7B-Instruct-v0.1\"\n",
    "token = \"\" # Replace with your token\n",
    "headers = {\"Authorization\": f\"Bearer {token}\"}\n",
    "\n",
    "def query(payload):\n",
    "\tresponse = requests.post(API_URL, headers=headers, json=payload)\n",
    "\treturn response.json()\n",
    "\t\n",
    "output = query({\n",
    "\t\"inputs\": \"Tell me a joke\",\n",
    "})\n",
    "\n",
    "output"
   ]
  },
  {
   "cell_type": "markdown",
   "metadata": {},
   "source": [
    "# Embedding\n",
    "MTEB Benchmark: https://huggingface.co/blog/mteb, https://www.youtube.com/watch?v=Tilgr1hjziw\\\n",
    "Leaderboards: https://huggingface.co/spaces/mteb/leaderboard\\\n",
    "Metric used for retrieval evaluation: Normalized Discounted Cumulative Gain. Explained: https://www.youtube.com/watch?v=BvRMAgx0mvA\\\n",
    "!Only tested for english texts\\\n",
    "?Are datasets chat relevant?\n",
    "\n",
    "## Models\n",
    "voyage - not open source\\\n",
    "cohere - not open source\\\n",
    "BAAI/bge - no german/multilinugal\\\n",
    "gte-large - no german/multilingual\\\n",
    "Next best: multilingual-e5-large https://huggingface.co/intfloat/multilingual-e5-large\n",
    "\n",
    "## multilingual-e5-large\n",
    "Long texts will be truncated to at most 512 tokens!"
   ]
  },
  {
   "cell_type": "code",
   "execution_count": 38,
   "metadata": {},
   "outputs": [
    {
     "name": "stdout",
     "output_type": "stream",
     "text": [
      "[[90.81393432617188, 72.13392639160156], [70.53543090820312, 88.76109313964844]]\n"
     ]
    }
   ],
   "source": [
    "def average_pool(last_hidden_states: Tensor,\n",
    "                 attention_mask: Tensor) -> Tensor:\n",
    "    last_hidden = last_hidden_states.masked_fill(~attention_mask[..., None].bool(), 0.0)\n",
    "    return last_hidden.sum(dim=1) / attention_mask.sum(dim=1)[..., None]\n",
    "\n",
    "\n",
    "# Each input text should start with \"query: \" or \"passage: \", even for non-English texts.\n",
    "# For tasks other than retrieval, you can simply use the \"query: \" prefix.\n",
    "input_texts = ['query: how much protein should a female eat',\n",
    "               'query: 南瓜的家常做法',\n",
    "               \"passage: As a general guideline, the CDC's average requirement of protein for women ages 19 to 70 is 46 grams per day. But, as you can see from this chart, you'll need to increase that if you're expecting or training for a marathon. Check out the chart below to see how much protein you should be eating each day.\",\n",
    "               \"passage: 1.清炒南瓜丝 原料:嫩南瓜半个 调料:葱、盐、白糖、鸡精 做法: 1、南瓜用刀薄薄的削去表面一层皮,用勺子刮去瓤 2、擦成细丝(没有擦菜板就用刀慢慢切成细丝) 3、锅烧热放油,入葱花煸出香味 4、入南瓜丝快速翻炒一分钟左右,放盐、一点白糖和鸡精调味出锅 2.香葱炒南瓜 原料:南瓜1只 调料:香葱、蒜末、橄榄油、盐 做法: 1、将南瓜去皮,切成片 2、油锅8成热后,将蒜末放入爆香 3、爆香后,将南瓜片放入,翻炒 4、在翻炒的同时,可以不时地往锅里加水,但不要太多 5、放入盐,炒匀 6、南瓜差不多软和绵了之后,就可以关火 7、撒入香葱,即可出锅\"]\n",
    "\n",
    "tokenizer = AutoTokenizer.from_pretrained('intfloat/multilingual-e5-large')\n",
    "model = AutoModel.from_pretrained('intfloat/multilingual-e5-large')\n",
    "\n",
    "# Tokenize the input texts\n",
    "batch_dict = tokenizer(input_texts, max_length=512, padding=True, truncation=True, return_tensors='pt')\n",
    "\n",
    "outputs = model(**batch_dict)\n",
    "embeddings = average_pool(outputs.last_hidden_state, batch_dict['attention_mask'])\n",
    "# normalize embeddings with L2 norm\n",
    "embeddings_normalized = F.normalize(embeddings, p=2, dim=1)\n",
    "scores = (embeddings_normalized[:2] @ embeddings_normalized[2:].T) * 100\n",
    "print(scores.tolist())\n"
   ]
  },
  {
   "cell_type": "code",
   "execution_count": 41,
   "metadata": {},
   "outputs": [
    {
     "data": {
      "text/plain": [
       "tensor([[ 0.0288, -0.0159, -0.0375,  ..., -0.0203, -0.0491,  0.0263],\n",
       "        [ 0.0668,  0.0235, -0.0121,  ..., -0.0174, -0.0374,  0.0084],\n",
       "        [ 0.0333, -0.0258, -0.0516,  ..., -0.0292, -0.0182,  0.0217],\n",
       "        [ 0.0504,  0.0331, -0.0060,  ...,  0.0044, -0.0277, -0.0071]],\n",
       "       grad_fn=<DivBackward0>)"
      ]
     },
     "execution_count": 41,
     "metadata": {},
     "output_type": "execute_result"
    }
   ],
   "source": [
    "embeddings_normalized"
   ]
  },
  {
   "cell_type": "code",
   "execution_count": 34,
   "metadata": {},
   "outputs": [
    {
     "data": {
      "text/plain": [
       "tensor([[-0.5784,  0.3705, -0.2903,  ..., -0.1864, -0.6170, -0.1681],\n",
       "        [-0.6217,  0.3575, -0.6667,  ...,  0.0884, -0.5486, -0.0266],\n",
       "        [-0.5487,  0.4059, -0.5923,  ..., -0.1571, -0.5806, -0.2218],\n",
       "        [-0.7518, -0.1955, -0.6656,  ...,  0.3062, -0.4915, -0.2704]],\n",
       "       grad_fn=<TanhBackward0>)"
      ]
     },
     "execution_count": 34,
     "metadata": {},
     "output_type": "execute_result"
    }
   ],
   "source": [
    "outputs[\"pooler_output\"]"
   ]
  },
  {
   "cell_type": "code",
   "execution_count": 42,
   "metadata": {},
   "outputs": [
    {
     "data": {
      "text/plain": [
       "<enumerate at 0x17a0ff010>"
      ]
     },
     "execution_count": 42,
     "metadata": {},
     "output_type": "execute_result"
    }
   ],
   "source": [
    "test = [\"a\", \"b\", \"c\", \"d\"]\n",
    "enumerate(test)"
   ]
  }
 ],
 "metadata": {
  "kernelspec": {
   "display_name": ".venv",
   "language": "python",
   "name": "python3"
  },
  "language_info": {
   "codemirror_mode": {
    "name": "ipython",
    "version": 3
   },
   "file_extension": ".py",
   "mimetype": "text/x-python",
   "name": "python",
   "nbconvert_exporter": "python",
   "pygments_lexer": "ipython3",
   "version": "3.11.5"
  }
 },
 "nbformat": 4,
 "nbformat_minor": 2
}
